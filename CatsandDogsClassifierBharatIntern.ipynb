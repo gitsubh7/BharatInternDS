{
  "nbformat": 4,
  "nbformat_minor": 0,
  "metadata": {
    "colab": {
      "provenance": [],
      "gpuType": "T4"
    },
    "kernelspec": {
      "name": "python3",
      "display_name": "Python 3"
    },
    "language_info": {
      "name": "python"
    },
    "accelerator": "GPU"
  },
  "cells": [
    {
      "cell_type": "code",
      "source": [
        "from google.colab import files\n",
        "\n",
        "# Upload the kaggle.json file that you downloaded\n",
        "uploaded = files.upload()\n"
      ],
      "metadata": {
        "colab": {
          "base_uri": "https://localhost:8080/",
          "height": 72
        },
        "id": "toA_F7BQz7Tt",
        "outputId": "b9e4061d-5bb7-417a-eb82-4e73ddc2043e"
      },
      "execution_count": 2,
      "outputs": [
        {
          "output_type": "display_data",
          "data": {
            "text/plain": [
              "<IPython.core.display.HTML object>"
            ],
            "text/html": [
              "\n",
              "     <input type=\"file\" id=\"files-bd010532-7a04-4cab-adc6-72defc33674f\" name=\"files[]\" multiple disabled\n",
              "        style=\"border:none\" />\n",
              "     <output id=\"result-bd010532-7a04-4cab-adc6-72defc33674f\">\n",
              "      Upload widget is only available when the cell has been executed in the\n",
              "      current browser session. Please rerun this cell to enable.\n",
              "      </output>\n",
              "      <script>// Copyright 2017 Google LLC\n",
              "//\n",
              "// Licensed under the Apache License, Version 2.0 (the \"License\");\n",
              "// you may not use this file except in compliance with the License.\n",
              "// You may obtain a copy of the License at\n",
              "//\n",
              "//      http://www.apache.org/licenses/LICENSE-2.0\n",
              "//\n",
              "// Unless required by applicable law or agreed to in writing, software\n",
              "// distributed under the License is distributed on an \"AS IS\" BASIS,\n",
              "// WITHOUT WARRANTIES OR CONDITIONS OF ANY KIND, either express or implied.\n",
              "// See the License for the specific language governing permissions and\n",
              "// limitations under the License.\n",
              "\n",
              "/**\n",
              " * @fileoverview Helpers for google.colab Python module.\n",
              " */\n",
              "(function(scope) {\n",
              "function span(text, styleAttributes = {}) {\n",
              "  const element = document.createElement('span');\n",
              "  element.textContent = text;\n",
              "  for (const key of Object.keys(styleAttributes)) {\n",
              "    element.style[key] = styleAttributes[key];\n",
              "  }\n",
              "  return element;\n",
              "}\n",
              "\n",
              "// Max number of bytes which will be uploaded at a time.\n",
              "const MAX_PAYLOAD_SIZE = 100 * 1024;\n",
              "\n",
              "function _uploadFiles(inputId, outputId) {\n",
              "  const steps = uploadFilesStep(inputId, outputId);\n",
              "  const outputElement = document.getElementById(outputId);\n",
              "  // Cache steps on the outputElement to make it available for the next call\n",
              "  // to uploadFilesContinue from Python.\n",
              "  outputElement.steps = steps;\n",
              "\n",
              "  return _uploadFilesContinue(outputId);\n",
              "}\n",
              "\n",
              "// This is roughly an async generator (not supported in the browser yet),\n",
              "// where there are multiple asynchronous steps and the Python side is going\n",
              "// to poll for completion of each step.\n",
              "// This uses a Promise to block the python side on completion of each step,\n",
              "// then passes the result of the previous step as the input to the next step.\n",
              "function _uploadFilesContinue(outputId) {\n",
              "  const outputElement = document.getElementById(outputId);\n",
              "  const steps = outputElement.steps;\n",
              "\n",
              "  const next = steps.next(outputElement.lastPromiseValue);\n",
              "  return Promise.resolve(next.value.promise).then((value) => {\n",
              "    // Cache the last promise value to make it available to the next\n",
              "    // step of the generator.\n",
              "    outputElement.lastPromiseValue = value;\n",
              "    return next.value.response;\n",
              "  });\n",
              "}\n",
              "\n",
              "/**\n",
              " * Generator function which is called between each async step of the upload\n",
              " * process.\n",
              " * @param {string} inputId Element ID of the input file picker element.\n",
              " * @param {string} outputId Element ID of the output display.\n",
              " * @return {!Iterable<!Object>} Iterable of next steps.\n",
              " */\n",
              "function* uploadFilesStep(inputId, outputId) {\n",
              "  const inputElement = document.getElementById(inputId);\n",
              "  inputElement.disabled = false;\n",
              "\n",
              "  const outputElement = document.getElementById(outputId);\n",
              "  outputElement.innerHTML = '';\n",
              "\n",
              "  const pickedPromise = new Promise((resolve) => {\n",
              "    inputElement.addEventListener('change', (e) => {\n",
              "      resolve(e.target.files);\n",
              "    });\n",
              "  });\n",
              "\n",
              "  const cancel = document.createElement('button');\n",
              "  inputElement.parentElement.appendChild(cancel);\n",
              "  cancel.textContent = 'Cancel upload';\n",
              "  const cancelPromise = new Promise((resolve) => {\n",
              "    cancel.onclick = () => {\n",
              "      resolve(null);\n",
              "    };\n",
              "  });\n",
              "\n",
              "  // Wait for the user to pick the files.\n",
              "  const files = yield {\n",
              "    promise: Promise.race([pickedPromise, cancelPromise]),\n",
              "    response: {\n",
              "      action: 'starting',\n",
              "    }\n",
              "  };\n",
              "\n",
              "  cancel.remove();\n",
              "\n",
              "  // Disable the input element since further picks are not allowed.\n",
              "  inputElement.disabled = true;\n",
              "\n",
              "  if (!files) {\n",
              "    return {\n",
              "      response: {\n",
              "        action: 'complete',\n",
              "      }\n",
              "    };\n",
              "  }\n",
              "\n",
              "  for (const file of files) {\n",
              "    const li = document.createElement('li');\n",
              "    li.append(span(file.name, {fontWeight: 'bold'}));\n",
              "    li.append(span(\n",
              "        `(${file.type || 'n/a'}) - ${file.size} bytes, ` +\n",
              "        `last modified: ${\n",
              "            file.lastModifiedDate ? file.lastModifiedDate.toLocaleDateString() :\n",
              "                                    'n/a'} - `));\n",
              "    const percent = span('0% done');\n",
              "    li.appendChild(percent);\n",
              "\n",
              "    outputElement.appendChild(li);\n",
              "\n",
              "    const fileDataPromise = new Promise((resolve) => {\n",
              "      const reader = new FileReader();\n",
              "      reader.onload = (e) => {\n",
              "        resolve(e.target.result);\n",
              "      };\n",
              "      reader.readAsArrayBuffer(file);\n",
              "    });\n",
              "    // Wait for the data to be ready.\n",
              "    let fileData = yield {\n",
              "      promise: fileDataPromise,\n",
              "      response: {\n",
              "        action: 'continue',\n",
              "      }\n",
              "    };\n",
              "\n",
              "    // Use a chunked sending to avoid message size limits. See b/62115660.\n",
              "    let position = 0;\n",
              "    do {\n",
              "      const length = Math.min(fileData.byteLength - position, MAX_PAYLOAD_SIZE);\n",
              "      const chunk = new Uint8Array(fileData, position, length);\n",
              "      position += length;\n",
              "\n",
              "      const base64 = btoa(String.fromCharCode.apply(null, chunk));\n",
              "      yield {\n",
              "        response: {\n",
              "          action: 'append',\n",
              "          file: file.name,\n",
              "          data: base64,\n",
              "        },\n",
              "      };\n",
              "\n",
              "      let percentDone = fileData.byteLength === 0 ?\n",
              "          100 :\n",
              "          Math.round((position / fileData.byteLength) * 100);\n",
              "      percent.textContent = `${percentDone}% done`;\n",
              "\n",
              "    } while (position < fileData.byteLength);\n",
              "  }\n",
              "\n",
              "  // All done.\n",
              "  yield {\n",
              "    response: {\n",
              "      action: 'complete',\n",
              "    }\n",
              "  };\n",
              "}\n",
              "\n",
              "scope.google = scope.google || {};\n",
              "scope.google.colab = scope.google.colab || {};\n",
              "scope.google.colab._files = {\n",
              "  _uploadFiles,\n",
              "  _uploadFilesContinue,\n",
              "};\n",
              "})(self);\n",
              "</script> "
            ]
          },
          "metadata": {}
        },
        {
          "output_type": "stream",
          "name": "stdout",
          "text": [
            "Saving kaggle.json to kaggle.json\n"
          ]
        }
      ]
    },
    {
      "cell_type": "code",
      "source": [
        "!mkdir -p ~/.kaggle\n",
        "!cp kaggle.json ~/.kaggle/"
      ],
      "metadata": {
        "id": "SSpz-rl5zvzx"
      },
      "execution_count": 3,
      "outputs": []
    },
    {
      "cell_type": "code",
      "source": [
        "!kaggle datasets download -d salader/dogs-vs-cats"
      ],
      "metadata": {
        "colab": {
          "base_uri": "https://localhost:8080/"
        },
        "id": "7uqwoy2mzw_Z",
        "outputId": "6fd076e4-f333-4935-bb6d-8863ad53b9be"
      },
      "execution_count": 4,
      "outputs": [
        {
          "output_type": "stream",
          "name": "stdout",
          "text": [
            "Warning: Your Kaggle API key is readable by other users on this system! To fix this, you can run 'chmod 600 /root/.kaggle/kaggle.json'\n",
            "Downloading dogs-vs-cats.zip to /content\n",
            " 99% 1.06G/1.06G [00:10<00:00, 145MB/s]\n",
            "100% 1.06G/1.06G [00:10<00:00, 105MB/s]\n"
          ]
        }
      ]
    },
    {
      "cell_type": "code",
      "source": [
        "import zipfile\n",
        "zip_ref = zipfile.ZipFile('/content/dogs-vs-cats.zip', 'r')\n",
        "zip_ref.extractall('/content')\n",
        "zip_ref.close()"
      ],
      "metadata": {
        "id": "x9qU8g8T0AyI"
      },
      "execution_count": 5,
      "outputs": []
    },
    {
      "cell_type": "code",
      "source": [
        "import tensorflow as tf\n",
        "from tensorflow import keras\n",
        "from keras import Sequential\n",
        "from keras.layers import Dense,Conv2D,MaxPooling2D,Flatten,BatchNormalization,Dropout"
      ],
      "metadata": {
        "id": "tcDDsEL80BsI"
      },
      "execution_count": 6,
      "outputs": []
    },
    {
      "cell_type": "code",
      "source": [
        "# generators\n",
        "train_ds = keras.utils.image_dataset_from_directory(\n",
        "    directory = '/content/train',\n",
        "    labels='inferred',\n",
        "    label_mode = 'int',\n",
        "    batch_size=32,\n",
        "    image_size=(256,256)\n",
        ")\n",
        "\n",
        "validation_ds = keras.utils.image_dataset_from_directory(\n",
        "    directory = '/content/test',\n",
        "    labels='inferred',\n",
        "    label_mode = 'int',\n",
        "    batch_size=32,\n",
        "    image_size=(256,256)\n",
        ")"
      ],
      "metadata": {
        "colab": {
          "base_uri": "https://localhost:8080/"
        },
        "id": "8N3_5yI90CuO",
        "outputId": "28e7f8c8-990f-450f-e270-6141434d8b5d"
      },
      "execution_count": 7,
      "outputs": [
        {
          "output_type": "stream",
          "name": "stdout",
          "text": [
            "Found 20000 files belonging to 2 classes.\n",
            "Found 5000 files belonging to 2 classes.\n"
          ]
        }
      ]
    },
    {
      "cell_type": "code",
      "source": [
        "# Normalize\n",
        "def process(image,label):\n",
        "    image = tf.cast(image/255. ,tf.float32)\n",
        "    return image,label\n",
        "\n",
        "train_ds = train_ds.map(process)\n",
        "validation_ds = validation_ds.map(process)"
      ],
      "metadata": {
        "id": "Sa6FLwUt0Dug"
      },
      "execution_count": 8,
      "outputs": []
    },
    {
      "cell_type": "code",
      "source": [
        "# create CNN model\n",
        "\n",
        "model = Sequential()\n",
        "\n",
        "model.add(Conv2D(32,kernel_size=(3,3),padding='valid',activation='relu',input_shape=(256,256,3)))\n",
        "model.add(BatchNormalization())\n",
        "model.add(MaxPooling2D(pool_size=(2,2),strides=2,padding='valid'))\n",
        "\n",
        "model.add(Conv2D(64,kernel_size=(3,3),padding='valid',activation='relu'))\n",
        "model.add(BatchNormalization())\n",
        "model.add(MaxPooling2D(pool_size=(2,2),strides=2,padding='valid'))\n",
        "\n",
        "model.add(Conv2D(128,kernel_size=(3,3),padding='valid',activation='relu'))\n",
        "model.add(BatchNormalization())\n",
        "model.add(MaxPooling2D(pool_size=(2,2),strides=2,padding='valid'))\n",
        "\n",
        "model.add(Flatten())\n",
        "\n",
        "model.add(Dense(128,activation='relu'))\n",
        "model.add(Dropout(0.1))\n",
        "model.add(Dense(64,activation='relu'))\n",
        "model.add(Dropout(0.1))\n",
        "model.add(Dense(1,activation='sigmoid'))"
      ],
      "metadata": {
        "id": "J8TjMAQ_0E0V"
      },
      "execution_count": 9,
      "outputs": []
    },
    {
      "cell_type": "code",
      "source": [
        "model.summary()"
      ],
      "metadata": {
        "colab": {
          "base_uri": "https://localhost:8080/"
        },
        "id": "3Ajl7V0X0Fvo",
        "outputId": "62f47672-5222-42b2-e085-328eedfdc663"
      },
      "execution_count": 10,
      "outputs": [
        {
          "output_type": "stream",
          "name": "stdout",
          "text": [
            "Model: \"sequential\"\n",
            "_________________________________________________________________\n",
            " Layer (type)                Output Shape              Param #   \n",
            "=================================================================\n",
            " conv2d (Conv2D)             (None, 254, 254, 32)      896       \n",
            "                                                                 \n",
            " batch_normalization (Batch  (None, 254, 254, 32)      128       \n",
            " Normalization)                                                  \n",
            "                                                                 \n",
            " max_pooling2d (MaxPooling2  (None, 127, 127, 32)      0         \n",
            " D)                                                              \n",
            "                                                                 \n",
            " conv2d_1 (Conv2D)           (None, 125, 125, 64)      18496     \n",
            "                                                                 \n",
            " batch_normalization_1 (Bat  (None, 125, 125, 64)      256       \n",
            " chNormalization)                                                \n",
            "                                                                 \n",
            " max_pooling2d_1 (MaxPoolin  (None, 62, 62, 64)        0         \n",
            " g2D)                                                            \n",
            "                                                                 \n",
            " conv2d_2 (Conv2D)           (None, 60, 60, 128)       73856     \n",
            "                                                                 \n",
            " batch_normalization_2 (Bat  (None, 60, 60, 128)       512       \n",
            " chNormalization)                                                \n",
            "                                                                 \n",
            " max_pooling2d_2 (MaxPoolin  (None, 30, 30, 128)       0         \n",
            " g2D)                                                            \n",
            "                                                                 \n",
            " flatten (Flatten)           (None, 115200)            0         \n",
            "                                                                 \n",
            " dense (Dense)               (None, 128)               14745728  \n",
            "                                                                 \n",
            " dropout (Dropout)           (None, 128)               0         \n",
            "                                                                 \n",
            " dense_1 (Dense)             (None, 64)                8256      \n",
            "                                                                 \n",
            " dropout_1 (Dropout)         (None, 64)                0         \n",
            "                                                                 \n",
            " dense_2 (Dense)             (None, 1)                 65        \n",
            "                                                                 \n",
            "=================================================================\n",
            "Total params: 14848193 (56.64 MB)\n",
            "Trainable params: 14847745 (56.64 MB)\n",
            "Non-trainable params: 448 (1.75 KB)\n",
            "_________________________________________________________________\n"
          ]
        }
      ]
    },
    {
      "cell_type": "code",
      "source": [
        "model.compile(optimizer='adam',loss='binary_crossentropy',metrics=['accuracy'])"
      ],
      "metadata": {
        "id": "0s1pS3sO0G61"
      },
      "execution_count": 11,
      "outputs": []
    },
    {
      "cell_type": "code",
      "source": [
        "history = model.fit(train_ds,epochs=10,validation_data=validation_ds)"
      ],
      "metadata": {
        "colab": {
          "base_uri": "https://localhost:8080/"
        },
        "id": "cwmH7SfR0KFb",
        "outputId": "671600d7-3c48-4848-9887-bbeb6d00665f"
      },
      "execution_count": 12,
      "outputs": [
        {
          "output_type": "stream",
          "name": "stdout",
          "text": [
            "Epoch 1/10\n",
            "625/625 [==============================] - 83s 113ms/step - loss: 1.4355 - accuracy: 0.5596 - val_loss: 0.6636 - val_accuracy: 0.6180\n",
            "Epoch 2/10\n",
            "625/625 [==============================] - 69s 109ms/step - loss: 0.6492 - accuracy: 0.6233 - val_loss: 0.6623 - val_accuracy: 0.5740\n",
            "Epoch 3/10\n",
            "625/625 [==============================] - 65s 104ms/step - loss: 0.6143 - accuracy: 0.6704 - val_loss: 0.6127 - val_accuracy: 0.6636\n",
            "Epoch 4/10\n",
            "625/625 [==============================] - 66s 104ms/step - loss: 0.5814 - accuracy: 0.7127 - val_loss: 0.7669 - val_accuracy: 0.6524\n",
            "Epoch 5/10\n",
            "625/625 [==============================] - 65s 104ms/step - loss: 0.5219 - accuracy: 0.7548 - val_loss: 0.5288 - val_accuracy: 0.7398\n",
            "Epoch 6/10\n",
            "625/625 [==============================] - 65s 103ms/step - loss: 0.4773 - accuracy: 0.7805 - val_loss: 0.4848 - val_accuracy: 0.7764\n",
            "Epoch 7/10\n",
            "625/625 [==============================] - 68s 108ms/step - loss: 0.4403 - accuracy: 0.7980 - val_loss: 0.4926 - val_accuracy: 0.7554\n",
            "Epoch 8/10\n",
            "625/625 [==============================] - 68s 108ms/step - loss: 0.3772 - accuracy: 0.8340 - val_loss: 0.5570 - val_accuracy: 0.7098\n",
            "Epoch 9/10\n",
            "625/625 [==============================] - 65s 104ms/step - loss: 0.3137 - accuracy: 0.8633 - val_loss: 0.4230 - val_accuracy: 0.8036\n",
            "Epoch 10/10\n",
            "625/625 [==============================] - 68s 108ms/step - loss: 0.2586 - accuracy: 0.8870 - val_loss: 0.5198 - val_accuracy: 0.7936\n"
          ]
        }
      ]
    },
    {
      "cell_type": "code",
      "source": [
        "import matplotlib.pyplot as plt\n",
        "\n",
        "plt.plot(history.history['accuracy'],color='red',label='train')\n",
        "plt.plot(history.history['val_accuracy'],color='blue',label='validation')\n",
        "plt.legend()\n",
        "plt.show()"
      ],
      "metadata": {
        "colab": {
          "base_uri": "https://localhost:8080/",
          "height": 432
        },
        "id": "5QuGTPV60Ktf",
        "outputId": "cbdbc15a-ead3-4f4c-926d-4d4f33d2235f"
      },
      "execution_count": 13,
      "outputs": [
        {
          "output_type": "display_data",
          "data": {
            "text/plain": [
              "<Figure size 640x480 with 1 Axes>"
            ],
            "image/png": "[encoded data removed]"
          },
          "metadata": {}
        }
      ]
    },
    {
      "cell_type": "code",
      "source": [
        "plt.plot(history.history['accuracy'],color='red',label='train')\n",
        "plt.plot(history.history['val_accuracy'],color='blue',label='validation')\n",
        "plt.legend()\n",
        "plt.show()"
      ],
      "metadata": {
        "colab": {
          "base_uri": "https://localhost:8080/",
          "height": 432
        },
        "id": "ZSK8PxbM0LyU",
        "outputId": "8c9aeb2e-a4d6-4bf5-ad46-29e4c6bf9a6a"
      },
      "execution_count": 14,
      "outputs": [
        {
          "output_type": "display_data",
          "data": {
            "text/plain": [
              "<Figure size 640x480 with 1 Axes>"
            ],
            "image/png": "[encoded data removed]"
          },
          "metadata": {}
        }
      ]
    },
    {
      "cell_type": "code",
      "source": [
        "import cv2"
      ],
      "metadata": {
        "id": "GR4d3XhZ0M6X"
      },
      "execution_count": 15,
      "outputs": []
    },
    {
      "cell_type": "code",
      "source": [
        "test_img = cv2.imread('/content/cat.jpg')"
      ],
      "metadata": {
        "id": "WrZ2OQqO0PaV"
      },
      "execution_count": 18,
      "outputs": []
    },
    {
      "cell_type": "code",
      "source": [
        "test_img"
      ],
      "metadata": {
        "colab": {
          "base_uri": "https://localhost:8080/",
          "height": 223
        },
        "id": "kS1XhHLe3eTh",
        "outputId": "5616beb5-8d97-450a-8a66-6f73e3bd149d"
      },
      "execution_count": 19,
      "outputs": [
        {
          "output_type": "execute_result",
          "data": {
            "text/plain": [
              "array([[[255, 255, 255],\n",
              "        [255, 255, 255],\n",
              "        [255, 255, 255],\n",
              "        ...,\n",
              "        [255, 255, 255],\n",
              "        [255, 255, 255],\n",
              "        [255, 255, 255]],\n",
              "\n",
              "       [[255, 255, 255],\n",
              "        [255, 255, 255],\n",
              "        [255, 255, 255],\n",
              "        ...,\n",
              "        [255, 255, 255],\n",
              "        [255, 255, 255],\n",
              "        [255, 255, 255]],\n",
              "\n",
              "       [[255, 255, 255],\n",
              "        [255, 255, 255],\n",
              "        [255, 255, 255],\n",
              "        ...,\n",
              "        [255, 255, 255],\n",
              "        [255, 255, 255],\n",
              "        [255, 255, 255]],\n",
              "\n",
              "       ...,\n",
              "\n",
              "       [[255, 255, 255],\n",
              "        [255, 255, 255],\n",
              "        [255, 255, 255],\n",
              "        ...,\n",
              "        [255, 255, 255],\n",
              "        [255, 255, 255],\n",
              "        [255, 255, 255]],\n",
              "\n",
              "       [[255, 255, 255],\n",
              "        [255, 255, 255],\n",
              "        [255, 255, 255],\n",
              "        ...,\n",
              "        [255, 255, 255],\n",
              "        [255, 255, 255],\n",
              "        [255, 255, 255]],\n",
              "\n",
              "       [[255, 255, 255],\n",
              "        [255, 255, 255],\n",
              "        [255, 255, 255],\n",
              "        ...,\n",
              "        [255, 255, 255],\n",
              "        [255, 255, 255],\n",
              "        [255, 255, 255]]], dtype=uint8)"
            ],
            "text/html": [
              "<style>\n",
              "      .ndarray_repr .ndarray_raw_data {\n",
              "        display: none;\n",
              "      }\n",
              "      .ndarray_repr.show_array .ndarray_raw_data {\n",
              "        display: block;\n",
              "      }\n",
              "      .ndarray_repr.show_array .ndarray_image_preview {\n",
              "        display: none;\n",
              "      }\n",
              "      </style>\n",
              "      <div id=\"id-1c4472b4-04d3-40ec-980f-ac713766c965\" class=\"ndarray_repr\"><pre>ndarray (183, 276, 3) <button style=\"padding: 0 2px;\">show data</button></pre><img src=\"data:image/png;base64,iVBORw0KGgoAAAANSUhEUgAAARQAAAC3CAIAAABc7TbaAADDdUlEQVR4nOz9d5RlyXkfCIa73j3v0pvKrCzb3dUeQMMbEiBB0EikzHJEac5ohlrtjma1f2jPrrQrHUk7q9kzc3RGIzcSSVEQRHJAECQIgEAD7W11dZfPqkqf+by73kfE/pHdjYZbCZojNroKv/POy3vzvXffixvxi++LzwXknIP3MDjgHEDGAQIAMI4AAIC9+QoAAIPvHAMAAAQAAg7fPGPvuBCD3zl+59sxBOg/xw//sQQDgLLv3J/jv8fNx2/+8/tHC/y+/9wrIO/2D/jfCfid7nxnn3MAIEAAcA4g/O63/5DLoHdw6TsXhfyeGxwQwHdMHu+cODjnjFPGGAAAIYQh+u6be8/hvU6eY8qg7zDnGO/odQ5/6PB/+z3szdPvTKvsnhwV6HjWeEfbEQdvkQlyznPGKKUAAAwAxBDdazPLdwO+x9U28M7fz97Rl+gdzYLwO9LpB7cWcvaOY8C/M/3ie0hrAwB8ty77Jpf4d16B/PiGc3g8ad179+cdeM9LHgYAAPCYKuid1DjmEeTge/R0/n2TJeTgWAq9+XEG4PcocffU/Ppdd+tYL+MAcM4hQgDAd94/yhm8l9aE34P3PHm+d2S/TYB34B1SBb3NtO+7zDs/yI5Jxu8t2vwgvLXoYwC8UyKzY0YBeBcMoP9kvMfbzgHgb3HjrSkQAgYA/14qHL8CAObf4dI7p8y3FPu3r3t89t7Waf8T8c51z1vGE4RgmtM4yZIsYwBgUZAkScSQgZ9InvcmGATse4c3e6vz2Vv8QRwABiAD6HiB+x1p8ua0CtGbZjn+fZe6NwfG95ntIWAc5Dnw/NCPQsaRoqkYSwS/Sz/wxwPvbfJ8P9524WR5igiBQHADV9eKFADH9yzdjKIcMYgxJgKAGDAO0iRjNNU0lTPKOcUYozc1fZakqSTp72Jz/vPBcRxFUURRBABQSvM8RwgJggAyCgACCL3lIwNpDuI07/eHUZoklAVh2Ol0/DA8efLUhfvWjpeEURQpigIACMNQVdUkSSRJehdb96eDu4E8HAAGAPlulw5CiFEAMRcFhQFou/7+YQfw3vLcEqCccKAIGB5/kAhEFhgAGAsAEAQYZZSzHEJ4F48AWZYFQTg+5vwtGxoDEJM8Z3mc54wxADJG4zhNsnz/oANFQVZUTGRFNeMMjsbOnTudM2utd14WQvj2812P9zx5+A85gwADDoIwkVXdi7Lbt/e29vYd23vt5WsiIZVKZXFpvlIuEQFpsqwQQDMOCIQIco5yRgEDhOC3QxTuPnzPvIAQQghBCCZOCDERBIFIJM+BP7WPOr3BcCyKMo8yP3TCKAmCIKM8DPNub7QyXzMUAiHknEMIj2mD0D2h7r7nyfNDgBCnHBFGc8ZBpz28fnN3OBo7rr8wO5tGKRvbUBBdL1JUsV4pC7LOGEyiFHAqECRKAiECAIAyitFdPokeD3pBECCEjAOtqGY5mE5DLwjyjCZZmuVIkDVRlMM4tW1n6jh5xlRVpTnyvdD3QkMxEUKUUkLIMW1+Qp73Gr7b/8kZQpiIggIYuHPncH+vwzgmRL9xcydJEgSZpqnFQqHRrJ45uU7kRUMVOBIR5FiAEL5pmc0zqkh30S16Byilx6oahBDjNwUsAyAHoDeN9vYOp9Mp4JCIIgSEMZhFGc0BERTLFCDEAIA4TL3J1Pd9UDMhhG+H7YCfkOc9BPb92hWHEEDGgYBxlIHtnQPPiSTV1FVjfqkkSwJCKEviJI1cN7y2eWv/6PCxRx80NMU0hGNTN+QgzynE6G61uOV5zjlHCBHy5higlEYZy5AQJnkOkaDosiwrigY4TJPcc30AqCRpuiYCjnzf99M4TWjghwAACGGe5+Ceoc0x3vPkYW85Ir5DoWMfOMZpnGOBuE7e6ww5IGkG0ozHabC8tFCtlnOapXFEMAA8i8Lg5Vcu1qrl2Zl6rVpRFYIA4BDD7wlWuYuAEDomz/FwZ4x5njf14v1xsN8ddTodmvNKsVwp1yRJZpSrmhV6AaUcE5nmLEkpp0hVtCiKAQDHax5wz5gKjvGeJw+Cb4UBvOndeUsIQZhkGUEkCEMvCATFitMcenGhoMqSghDxbTsMQ8vUCZEZSF989VKlXFxenj+1dmJpcVZVECCQZt+59Fv4vsHxPc6hH7PBwwAAgH+/OECEcA44hBkAgIMo5WMvHU79rZ1DO0yIoNSqhXqtaah64Ie+50iiknNGMJFUOU2yjNIoTyABeZ6Bn5DnvQgEuABSAAAAGAD8Ziw0BxwAioGoKwyCqzeuxVk0sgPNLOdp+sTjDwae090/4gimCd8ed5M0JQJaO/VwrVYKAnswDSXNk2XSrGpYQAxwBOgxJxhnlHKBCODtEIbvi5T7zy2qftTBGSaRIGIBIgAAAgwAdBwNGKWZIMk5B37Aw4T7UbKzP72zvaOpxkKrpet6liSh7aV+rIhS2bTyNM6SOAEAyTijNIVpBGKWJrI+myQJxljTNABAlmWCIDDG7gX97b1NnuMYAwDAmwsT/iZzGASMgSihAOMkTzgCpWppprkoCtLe9k4cB2lKBVUplMqt1lwYx1PXfvbFVwxNKZdM27a9MCiZum0bGydaQRoCmgqCKIsygAghnuUZwQIA38ec4yQi/uOVziCI+HgVhwDjgOcg4wwyACVJDjIehDnHQo7g0InbA2fqpsWimud5GiUQQhELEEBFli3L8nyfQRAlCQVUEIRirYxlgaYuQuid0ua9HqT/I+G9Th7wXflw74DnxVAUCAHHTnQIYRwlURivzM0YRlOU5JQBRAQkCGqaEAF/4tf/2uHRfhL7vc7hndvbhiqaht6qlRWBI44Qg+w4WZVRSjnjVMQE/CAdjX93NsR/ED8q037Ui2MocEApoBljkHEAAOeMAuyHPhZVURQOOuM3rt8+7PQlSVtdXfYdO0sjaHDTNAVBzfOcEKIoShglsqTGST4aTuIooRBACDGAGJF38ucn5HnP4a2sgXfwSJQIUTDlAGMcRRHCWhiGEGDGc0mRS5UKESXKYJpTJU1lWb5z504c+QgCVdYRVBlLgiDe2t5fmq+XCoooihnnNM0ghIIgYgjZ94zjt3JOfzCV31VwAPKcgbfMA5AjzrimyzkH7d7k5s2bOzv7ccY4x+PxeGlhVpGFgmHKkprH8WQ8HY/H0+m0WKpgRDAmYZDs7+87vm8YZr2iEUIwxm9z5p5a+dwd5HkH3uo1WSY5AHkO0jSN47hUVpqNmWq1urG+MBn3d3a3ojhLcxqneZbnCKEsyyqVSpREmqoIGA76bhz5Xz188pGHzm1srMy1GmnGs4QqqkQgZPDNpQMAx8lz4DuU+VElyY/cwB/tCziAFEDKIUGYYIEBACDMaDYdTg/b/b3DnuNFtUqFAoKJIIrieDKslktM1ziguqFalsVylibZ1HbznEmiUq3UnKk3mjjO1DcURLBwbC04dra+HelzL+C9Th70g+d6CBgHjIMsp7qui4IEAEjTVBTFr37tj0UJF8uVarWaMzAcjKIooowxSuMoah/uS5Jk6loUJ5ZRkiTphZdfi5IkTYGu6yJBIkWUgCzjEoFvf/2b/tnvzmr48UHOOGeAYnSckB7HmReEQZDs7B7u7h3Jmi4rRhAGCJNSqbS8sqTKIuR8Mh2DjApEYjkL/QQTIUoyIkgFqzg/t+iH6XTq+F507CZ629r2E8nzngMEHH1P0ZckSRlChJB6vW6aZhwlnXZXUZSTp07JqiAQMY5j13UA5HMzTbNQQBxhjCvFUpqmgOeOI1LGCoXa1LX32wOApIX5uWq5CFBKKZGE4zSHd8gNyI4NBhwg9v3Jqj8cP6rk+ZGseeytgjiMA84AQiCK8/HYHo2n167fun5zs9MZNJoz9z/w8LnzJwRRzmkWRXaaBDxnNOcixAhSjLCmaRxADjGlMIkzmgNJUmQphSA+jk44jjC4p8QOuCvI893D783sa6AoYsYBBUDTNEmSkhRhjFXdmNhOQyqbJbNSqbRm57Mss6fOdDq1zKJt2xjjIAh8151Op7Ztnzp9cm3tzGjc7/THumFpqs4YQByq6puRBwy+JXze/moO2Vs2t//gM/gRc4YYAPCtj/zHPB8znDNEGeIUcg78IBmPnf5gYjvBY499QBDl/nCcUZ6lOSbMtm1dF9IsEQShVLQUImYpBRQKRJIkMaPAduL9dmc0GqVJpqm6qijou3NJf0Ke9xy+u8zAW2eU0ZwhVVMkSZIko1KcCYO40SwhIrp+yHlAIOKcO9NJr9NpHx5yzkvFSrNeh60ZAEAYhv1+bzSeZjno9DoXX33tF37+5ybj/oc+8H7dEtIcyBKIokQSiQBBEkWyIsZpSgRlNLXLpRLCyPE8hLGuqWEYyZJEGUviWFFViFEYRpqqhGGEAGCMua5br9cxRkmSSpJ43I7jBL0oimVZPk6YSdPU8TwiCAXLzCkjGLmebxo6ByBOM0EUGADjyVRTVUmWvCCUNZUBkKS5rovdnk1E6eKlK67reV4Yp/SwM9BUHRGJEDKdTosA1CoV2x3mNKcsZxQwWRWIxCiLI8/3BUGSj9N+MMae50GAGvVGrWYyxiCEx44dXb87059+IO4CT9YP1JF4nEaMU0GAkiRpmgYhBBwKRIRI4AxAgDRVr1arMzMzJ0+efOihhzbW1huNhqIoGGNZli3LKhZKZqHYaM0yACVBWVs//W9++/Olcv0f/MP/fv9g4rpRnABJljDBfpwESYqwKCtGmKTlaiXncOr4mmkIkjJxfCxIACMskIwBiBEFQFYVCgDCAhFkVdMq1QZEiHEQJ/nxao1xkKQ0ywEmEgcgzVgUZxAJpXJZ0YwopY4XUAA0Q3eD2PHCKM0zCvwolVU9iFMGAEeEARBHTNXEg8NhkuV7+0fPPvuiKOtPPf2cphdW19bXTp4ydJNRjjFOkuTg4CCOUsd2R8OJ53mMAs6A5wadTjdJkiiM4zgGAMiybBhGsVgsl8t/yp39Y4X3uuSBPyD0BHIAOWM5enMtCzjn3W5vOohLlZrtjgHKdVUtl0vlkiWKooARQWhutjW/MCcpqucGN2/dHg6HlIEsT0+fOVmpVGRBHI2HP/1Tn3Fs92Mf/8TX/+SbD95/9r7zG0fdiSwJ1bLBID7o9guliqSpCQWMA9XUcwAAgZKmu0EgCIKqimGaaQDEcS5JhDHAAGSUYYIhghwASgFEmL8lc4IwUlVVFBEHAGHCAYQEUggAgQjg1OdjJzAMbWQ7MzP1JKEUAkERAQAyEbrDqSRJfpRhInR6U1nV//hrX3/tjSvv/8CHnn/polWuRSnb22ur6vRYkqRpKhJcMMzhdCjLqqSJecZ63T7BQtEqra+vJ0kOkQAQCZI0yzLHcRBCrqv9+NlH/vTwXifPMeD3logFjAN2XCYHEyBL6nQ6pbFPGdKtec4Q50SSZIwEmmYAAUVRbt++jRAqVSpmoTg/P6fqeqfb7e/3r127dnh0sH5iZWFhwXHcr/zxlxcX5pYW5r78R388mUzOnzulW8be0WA4HC4uzEKBhDGIkiQIglKptLu7Ozc3F8ex7/uEkBmlwqFAOYhTJkggzYEk4CRi3jhI01RRFEJIHGdemAIAEELTqV0qIQihpilBnDOWasAYTyd+GJZKpTBMe73ezMyM7YaNFogSOnWCatVMEsA5v3Vn99SpU17gmYaVZPRf/dN/dvbsfWfP3f+Ff/97zdb86TNnq5VaEAR5DhqNcrlQRBhiCARBWFied93AmdgRiyRZgBD7fuDYPkRYklVERFEUNV1RVFkUxUq19C71+I8F7gLyvEWb7xSJ5QAASimkFGMgiqDVamnaVpgDQ7cmI4eIUBLkNKYhitIk4jSTRGF1ZWlvf//O1i0AiWaYs/OLp86sUwpubd748IeecO0J43RnZ+dv/I2/oSrS/u72dhpjSXnuxVetgvnYIw8lGbt+a7tSqcQJrdbr/ZG9eWdXVdVwa8+2bU3TJpNJxtBgMAjiRpqmKS26rgs5lwRhOhozxlRVPTZXJEmiKIokSb4fSUrmOI4sy3me+76PhGG3379+8+b6+vr8/Lzjx5oXjW3/+uZhlmVJkgwnLsaYMRbEec6xohdu3rr9u7/ze42ZucFoXG3MNppzmmY2W/O7u7u6rosC9r1QleRKtQwYdRzn5Vdeq9frrXrLMkpZFGVprsiyoZueHyZZlqQ5IVjTVFEkSRJNpuN3p89/PHAXkAcA8P2eHi7Lcn58xEChUEAIJUmUM2pplmHq9Xq1Uq7IEuZ5zFiKEDw8PEziuGCYOQSO57xx5fWcgjBwVxYXrl5+fX9/P8tTSRJd1zl9at31w2ajNZ5MRVFWNP3y9U3OWbnSCOKYA3hnZ7doFm3Pl2W9PxobqnF989awNwSYhF4YpZmlWww69tgOI5+lNEkiS7fcMAIUMMh4zomsaIIChVSS9cx2YMoo4K4XAQz2DjrXN2/Jsj67sFgsVm3Pd5wgSrMkTIyCgcO0MdNwp25zdm48doiAeoPh3MJSrd4Y2c43vvHNk6fOyYrxyquvra6uIoQ4hFmeD4fjMPCqpXK9Uis+Up067nRqq6paL1YgBKPheH/vOiZCbzDw/LBQrei6XqkVGQXNZv0nattdCBGLjFPKWZYhXdcRxFmW5RnVVKNgFQzd4gxkaS4SRIjIab4wN9cfDZI0hYIoq3oQx+1u7+joCHG2MNP8C3/uz12+/Ma3n/rWwsLCK6+8cv8D9+3t7SFCDtvtPM8vXLggiDhN05yjOI63dvZOLJNKreF6gaIZRJBeuXiJZXRp7UTBKiAiYkH0ggggLCna2BlKsizKSn80YBk1i1aapr3BiGBpYrulYgKxIEgyAkyQZM3UJaXDALp1Z6sxN3tqfePg9uawN6i3GnGckEQuFbWJ7RqaHmfJZGKnWdLrDgRB2NraKtdajeZso96UNWtl7VSe55PRKE9jBPh4MOj3joqmtba2phslTCRF1rI0PzxsY4wNTd84eSqMozTPwzgOQj+Mgv6gryoaJjPvdj+/m7hbyPOOMIO3oswYZTllEBOxWik26pUshs1WA0FMsJjndDTxIc1kGQoE5nk8HAMGqKypKWOD0SgII4DQzNxcniZPP/vsb/72b/2Vv/JX/ru/+X/9d//u84yj3/yt337/+98PsXBi/eTMTGswmfq+L8vydDr1gpAD/Ma16+vr62GaNWbnnn766e2d/dFgcPrsucJGKfCjMIjH47Gu60XTWjmxelyL47DbCcNQs8zeaNg5aien0263KxARISSURAAAQMgqFOfm5iBATz3zDANgdeWE63iH7TbDSBLl6UFb060XXnjhox/9aH84LBUKnLLF5ROVUgkLwr/6jd/683/hv7hy7ebWzt7qiXXEkanpZqOGICgYhmVoUeAfHvUEObAKxYJu8JzGYQg5z1NOOak31TBdzKEYxuHUHudJWmw2Tq0vvWs9/mOAu4A8bwXFvIM/x/5BglCSJhiLlqXKMlR1cf/gzn3nH47jGPAcI4gRT1KOsaDoVkZpEHqhE2BJtIpVxcwRIbqqRp7dmGmcfeD+3mj0xS9/+ez9Dzz99NO2HyaUb5w9BwDQC9b29vbq6vKVK1eCMGYAzi6tvvrqq7tH3Vq5sn/YPWr3Vc06f9/88y+88sB9D925c+fcmTPdw55SVKdTR9O0Tq+HMX7iQ0/8i3/xv6Z5LopiuVrJGe30ulEULS0tua6LMXZtezwe2659amN9bn729ddf39rdafe65+67/0tf/vLP//wvSrJ81Bkc9oZQ0Py4v1Csi1Gka9ZMrfbiy6/88p/9FZbl5YK1vrL6raefmm3OElCIEWOMAcpKxUpuFPwgyaDohGm/v6/J0kytkSZ5t287IUx5ozuMJy5LE5qnvGiaZUPKAheXzB+YknAvROi818nD33HwXb2VgxxBSAjBBCiqNL8wO53cSXM4HPWrtSZGQhh5eR6ripCkKB1FoiJzBIIgmBx1BEGUdd33/W6v06gWfdc+NuYyTt1Lr73/iQ/83C/83KVLl3LKMYbTqZOk6ZWr1yVZdYNo/6AtaUat3kIIZZTHQUAEqVypaZLcPureuL55+fLl6Wja6/U0Wds4szGY9PcODprN5j/95/9yeXlZkiSRENM052dnX331Vdd1r1+/Xq1WT5069erLLzMAytVyu3347aefffDBB69cuRLHcRjHq6urg8GoVCo1WrOrJ07mlL/0yqvffurZj33og6FjF/RCszHTarWSJImiaHdnq1Epb6yfGAwGvuPWajXDMKIoiqJY0sxyc77bH8NqGtjO7a2dcqlCRPXV1y6vrOVEEAyzGgTYnQ5kETZrlWbdvAc48kPxXifPDwQEANKEipLCBc4B0BRw6uTJrVuHqZ3aruv5UdGyTEtL03g07KqKVK2V8jz3Qj8MfQ54nmeT6ZjmzLIsQJmuaePx+L777vN9T5blUrGgykrRKjj2JAzDer3++qVLrVbr9OnTu7u7kPPuUdtxnEKhADmv1+uCIKiqmoQRxrjT6YRheOXKlY9//OM5Y3t7e37s9UdDq1Tc2t0pl8snT550plNN065fv65p2t7e3rHH9vnnn9dN85VXXimPy7ML87ZtLy8vV+uNfr9/6dIlwzAMwzg4OBiOp2tra08//bTvuHmeb29vKwTv7e/Ispxm8WAwlGVZUZTFxcVerycIAsZ4MOy1222EkCiKHIs7hxcbzZlGqVgxzYJuDPrjKPLOnj07GLuaZRZ0Pcv8JEk0RdR1/ccu++JPF+998kD2g1L039QfEEAUAITAwvysoki9vkNBwAEhhKiaxCEAGMmqWq1Wp65DCCmVSsVqRRKVMIlzymVF8ifDbvdoeXl5f3/vgQce8H1/fX1xOHRPn9m4ePFiv98XRFIul7vdLiGk2WweHLU5hMd+m1u3bh0bjh984IKmaV//6lcty+p0OlmSNBqNpaWlwXjAptwwjMXFxQcffJAxlqYpxtj3/f39/c3NzY985CPPPPPMcVbz0dGRrCpJlpfL5Y2NDYyxJEmVSsVxfQDQzEyz3++Ph0NFUbbv3BmPx+fOnXvt0sUPve+xTqezsLBwXGuqUCgIgjiZTLIsK5fLkiT1+33H9jDGCCHOkaxIjjM92t0SEa6Vq1meOnYs6RYRBMdxAOBJEkACC0XTMLUsA0D+U+/xHxu898kDAIAMAPzmLHhcBgQiQgh8K0SSM6AbqFQ0dne7nuctLa9Vq5U8ixFEiwvLmiranhvHsWVZgoDjOE6ShAHQH447RwcPXzh/4sRqtVpFCG1vb0uy+NWvfktV1Uq1ZJomgPyP/uiPVldXBQEfHR1EcVwoFKIwMXXd1PVysUizrFIqz87Odrvdo07nV37lVw7aR6okD8fj2fn53d3d+y7cryiKZRYa9ebczEy73ZYkKfQDVTNK5erJ9Y1+b6BqumkV9vb2G43GaDK5cvX6xslTy0srR53u+vp6rdK8s7O9s7OTZsnKytLFixfPnzvzzHPPiQIuFQqGYRQM03Xd/f392Zl5SmmlUk6SWJIk257mGbUsq1gsBkGQxBnHuFCpTB1PrdcDx93e3q7UGksrywftPgfiYa87GA8tQ1A1pVqtVMqqcQ8Fsv0A3AWxbT8AkAOZiDnPOeDHYS8IgsXFedPUIYRRnIZxwiFEhIRR1O339/f3R6Oh77sAQVEUEUKapl24cOFXf/VXAQC3bt06lgmPPvZIrVarVquYwN3d3W6vcywovvCFz4uimCTJyy+9tDS/IIri8ULiwoULhUJheXk5juPV1dUPfehDURSpquo4ztrammFoC8tLAIDl5eWvf/3ro9FIURTTNG/fvn2cWPbggw8CAD760Y+qqpqmabFYPLVxWteMcrncarVWVlaq1erCwoIoiuurJwRBgAAUC4Xl5eVSqfTBD3zA0LSHH35wd3fXdd1r16598YtfPDo6sm2bUrq6umDbtu/7vu8HQYAQqlQqpVJJFMUrVy+PJ8MkjeIkdD1nc3Pz5s0bGaUZowCA4+JshmFouvKu9vCPBd7zkoe/KWu+x2AAAQBZnBAJYkQwAjQDpzdObm4exMzpjyau7zYaNUMVXWea55GkkOWVZcZyzjnldDKduId+c8bXtZMf+uCFZr2ys7NVq9VuXLs2Pz8fhR5gTJXlr37ljyRJ+uSnPj4dDyejUZxEJ06sZFm2tLDQarUqlcrB3n4aJ4WaRSm9c+dOq9X65re+de3atdD3c84uX7suK2Kn06k26q++9vq5c+du3d4uFot7+0fFUlVW9Yntlio1CKGq9H0vvHVr6/SZM3Nzc488/tj169cdxy2axTzJwzBcWlqqZdnq0rLjOCsrS4EfigImGIZBsLu7e7C3W6lUBJEMR/3VE8t+4IYRIgQvLi4QIgRBwBjTdb1SqfhxOru8Yk+dzavXwig4ceLEcGSPp36r3HCCVDdNRLggk1rVrFXKCILAT4uG+C71/LuPu07y8LceAB7bxxAABAMEwcK8Um/UNNOQNTVOs26vN3UcVdebrZlKpdLv98fjcbfbGfb6siwvLi5Czp5//vl/+2+/BAB48MEH77//9Ozs7GQ6sm37mWee7nTa8wuztXrl5Zdf/lt/62/NzMxsbGw8/OCDlmk2Go2DvX3IQbvdnpmZgRCOx+NerwcAKJVKWZY98aEP7eztjUajWqMRRPHW1tby8vJxrYWjo6NyuZznuWmaxWLx9u3blNKzZ8+++uqreZ7/zu99cTCaUErrtaamGpqmOY6jadqlS5defPHFs2dnAQA3r11/+MELL7/4girL0/HoA+97/PDw0DTNpaWlzc1NhJCqqv1+/8SJE5ZlybJcqVQ0TfM8L0mSelWRRSzJ5Pz9Z87fd07TlZWVlfPnz7ueN55OGQQQQoRBrVZdWFR1DfDv2gb2nsN7njwcUA4o4Bxw/vZmf8dV1UxdJxhDwAgGmgayFJw7f9owDNcLGECUgzSnqq4TQpI0q1Qqx8ue1kxD19Xdve3BsBeHfuB5o/4gCjx74vY6RyzLS1bhpz75ydFgULSsuZkZWRRYnj3y0IPlQtEwjFKhEHj+6Y2Na9euRVE0Ho9feeWVLMsMw3j22Wd3dnaOFa29g/0oSZ57/nkOQH8w2Dh16uJrr/WGg8vXrlarVcuyvvWtbzHGao3GtRs3hpPx7MK8omuiKFar1SSl/eFIM4ycsRdfflnAeNDrPfbII9t3RqVCwZ5M0jheWV4gCJ49s6Fq8sc/8dGj9kGlWnr8fY9Fcbi5uSmK4mAwyLIsTRNKcwD5eDLq9bvPP//6zRtXp5MRxojSDAmYiNjxPEGWZmZmJpMJhGB5ebnRLCQxcN2kYMkQAviD8G6Piz8NvOfVtu/Fmy5T+GaZTA4AZJAjCACEgCBgmKYgS5AzSZHSLLu9ta2IcGlpVhRFq2AyxiiljVZrbm7u1tadbz/5zWGnncZRGPkPPfSQbdvFUmE0Gg1H/Y989EPj8dg0Dcsy79y5c/LkScuyjg4OICfD8VTAuNtuLy0tjcfjNE3n5ua+8IUvzM3NPffcc7/0Z//MpUuX9ESXZVmW5V6vFwQBAECW5dFoVCgUKKX9fr/f74uiGIYhY2xrawsAcP78+TCOHc//gz/48vLy8pNPfqtarZ47d+61115rt9uEkOeffx4h9LGPfMiejPqdbrlQbNbXpKaysrKiKIosy2ma9nq9PKO1Ws00Cv1+v1gsxnF85cpVjPHJkydVTdELFoSwUilMJ5NaverasVUsYoV2+pNGs1ks6a7r7B9ExVMt8R7fF+4ukDzHafo/rPoZhscUyhEEBANBJJqmzc4uKJreH47COC4Wi8ViUZAkTMjyykqj0Yjj+OJrr3a67dnZmV/+5V/+83/+z585fTLwvIO9vWtXL/uuOxmNaJrt7+zOzbQ8x1k/cWI8Gly98kbBMuI4sm27fXDoTu2FhYWXXnqp3+2GYXh0dDQejxVFKZSK9913n67rlVotybKM0mKlbBaKK8urEKDZ2XlCxEZrJk6zCw89fO6++2VVUzT98KhjFUqzcwucgTTJGQWddg8AYGr6zp3tVqv1sY99rNtuV8vlwHOyJLn8+utnz5w6uX4CcBr6nigKlmV5nteaaQyGPUwQJujK1TcQBlvbt+9s3Tp//txDDz2oaeoHnji5dqKZZsm161fTODQMwyqYlFLLsgCEjVZLUZTRaLS3t4sgkCT041dm608V73XyvK2ose+qjMEhAAgDiAA8rvKHIBAIkEThxuZmzrgoSVEUxXEKIIzSZDAYHB4e9vt9DuiZs6dPnjypKErgeYosri4vNpvNxcXFKA4lSVIUJcuSU6dOMU4PDw+Xlpb6g95oNMqy7J/8k38y7PcdxwEAVCqVRrU2HgzjOBYJOTg4qFQqu/t7Dz/88MS2106efPjhhxlj7XZbFMWlpaVSqXR88TAMJ5MJ57xWq3HO8zxnjE2n08XFxYWFhaWlJc75iRMnbNt2Hf/woP21r32tVq2fOnVqOByePXu6Uir1+l3K8katPh6Ovv3tbzuOk2XZwsLCeDxGCH35y19ut9thGAZBMBwOwzBcXFxUFEVRlEaj3Ovlr126oSpSrVo6dXpjMOh5QdDudgRJKpbLoiRM7MloPMzyRFaASBD6gS62ewZ3l9r2znmQv63AUcApABJBQJTI7u5+dU5dmps1DIXnSRBHWeKvLM7OzTbjJOh2uxywKIogQZxzRVFuX7tq6OqJEydeffVVVVW73fbe3t6jjz46tSdRFLmes7+/DwAQBCwIeHd3N40ZgiT0/Rs3bjz44IObd25zzg3LKhQK+4cHy8vLh4eHc3Nz84tzb1y58sJLL83NzX3605/a2dk/f/+FJI7L5erNzdsnT55kOe32hgShbqffPuoiSERBfvihR20n4AAtzC++duniTKO5vLzcbbeTOFxfPeFMp5IoVqsVAMDR4b4gCI16LQiC27dve57n+16hUGi1WrV6xbT0/qBXKFqTyaTRaLiOnyTJ6upqEHqSQObnGnnGxyP79u3bhWIzZ8zxvdnZ2e6g1+12eeZVyk1MAIAcvjlz3RMrnO/H3ThxvOkt/Q6TGGOcMwCBLEJV1ymlGaOaapSr1aWlpdWVtVqjcdTpiKLYbDYxxhyw0PdHo9HW1m1VU9I0PXYyIgT29/f7/f7NzRu7u7uc8xs3bjDGkiQajUa//uu/Xq6UCoVCmqa3b98umKaiKCIm3W73OB9uY2NDM4xisWhYFiFgeXk5CILDw0NKgSRJpVKpWCweh8wIgnDu3DnDMCCEh4eHmqbJsswY0y0NC8J4PAYAECwoirJ24mSSJKPRiBAyGAzW1k4sLS0lceh5niAIURS1Wq1SqSQIwhNPPKEoykMPPTSdTq9evZokCSFkc3Pz0qVLjuMwxoIgaDQa586v9fq94ai/s7PDOL1y/cpoNNrf31cNcLx9Fee8XC6j79zoexd3I3mO8V3koZxzAAERwPz8/HQ63d7aGU8nlFIIoet7t2/fjqLI9/0oilzXLRaLhqFxQA8ODpIkScJoPBguzM6tra6qsnxqY71zdDQ3MxN47qn1kxIRAGPlYrF9eHju9JkH7rvv8UcflSTpgQceGI/HpVLpeGiWSqXV1VXLshqNhiiKSQIq9ZpumQyAbr9PCOl2u14Q9AaDarU6HA4hhMeOV9/373/wQmtuttZsYAwghAjh3d1dQRDG4/HOzg7G+JhjpVJpeXnBMgx3apuafuvm9VdffvG1Sxcd1242m2fPnu102vV6rVarLSwsXLhwYXd3t1wuz87OdrpHlWqp3qj2+t2t7f2dnR1FklRVjaJoe3vbdd0kScIQGIaxuLyMCMEEheGbd/ld6t0fC7zXyYPeUaiav9maYyWCHR8hABBk4LgmokDA+TNriKeSBO+//+zC/MydO3eeeeapN65eGQ6Hw/GEMUYIURUpSSIBwXK5iBEplMqirKyurzGARpPJxqkzlmUtLCwsLS0nSVqr1R5/7P2aqu7vHjQbjfGge/r0esHSr1y5kmX5Uad7+9YdmjPDMGiemrpKs4TR1I/CKI4FQdo4eWqmUUcQW2bhYHe/Vqm0Wi1RFLe2tgghqqpKsjA3PxPFAUTc9cKz586cWFsplYvDfu+Ny5eyNAKQ85yuri7Nzszs7x54nlcoFFZWVgzD+G//u7+5sLDgBeHR0dHla1c7nU65Vq3X67brdjodLAhLy4uypjSbzWKltLOzoxkGQVK13BiP/UsX33jxxVfX1049/uijzUo1dOxKQT+ztqiLEKRx6NoYwvf66Pnfifd68yEBEgESggQhBDAAAgAEAHzsGRU4QBAQXTcJxJBzWQQgd7NotL7clEm+s71ZrRQbjcbmzdtXb27arr+1s5fGyXg4rJUKGyuL7mS4vbdLsXB7Z2/iBAhJ7//Ah69cvTkYTi9dvDzoD52pgwDSFO3CfRc+9fFPYsY/97OfHHS2z55eC0JvMBwPR3ahWJ2dnTM0TSY4cMYFU6U055w6QegFoSLKr1+8HAeRJqvLi8tf/+OvR35UtAqU0sGwN7swO3GmR902kYSUJkZBnZ9rrizPr51YOn1uDUGaxP7WrZvLywuB54oEb2zMB0Ewv7ToBv6nfvoznu8zDnXDOup0r9/YLJYrk6kzGI2CKJq609mFWT/yKaCqoXmht3xixbYdz4myGB3uDmgufvzDn/ng4x92x/a43U6nw4UiFBOnKsGGpSw0CiKAcRS92wPg3cR7nTzgLckDv+vwzZUsBPytBwAIAAKApQnVkmpqmOURy2OEQL1efeKJJyzLeu2111r1Rr1er1crqiypkvj4ww9TSoMg6PYGh4eHGaNIII899tjK8urJ06dozg8PDweDYa/X39nejcJ4dXWV5vGjjz44Gg8feOABUVbbne79D1ywpy4GUCSEIIgwRAhBjBiHulFIc9bvDX03SOLMNAon1tY5B1GccM6jOB6NRgDCbrfrBa7rumEYc8TLlaJp6YzRWq0WRsHa2onpdDKZTJIk8X1uWFYcJZTzO9vbd+5sXbly9fDwkFJaKBSq1epxDJtpmpqmFQqFUqk0Go2uXb+ytbX1L//Xf37r1i1ZkJq1RhTFJ1bXVVX7jd/4LQxh6E0hjTEHzbJ53+m1lYUWBgBwztiPVP33bsNdQJ4fBRAszLfWVubrlQKgCaNJmoWySB55+IHlpYW/9Kt/8Rvf+Nqd25uA8t2tnWefeW5ra+tnP/PpMHAXF+YqpUKtUsIAHuzt5TS7efNmSnMA8P7+0dFRV5QVVTdHk2mxXDGtglUofeWrX6WMRXE2GE4WFheJKEmyigURIwIhYhQkSVYolYkocYg4gKPp5KjdRoSIkrS+saHpRpJRzw/L1VqSZGnGcsoRFvKcpTlbWj7xxBMffODBh3PKt/f2ozipNZrFspUzrptaEEWabkRxQgixbVuRpLmZGVPXR4PB3s5OFARFy/rsz/yMPZn4rnv59dfzNLUnk28/+aRl6I5rHxzsN5sNANnrr19aW1/Z3duamW0CyCnLDZMsry7IMgAQZGny9jba9ybuLlP1fxAQrKwUT50+USpavUFfIDD2Xc/zFhdmf+rjH+12Oz/z6Z/uddqc0qXFxVq59NwLLwyG0zhNEUKrK48lcXj92pVTp05pmtbpdKIoqtRraxsnq6WyJKlBGMqy4oUxhBBhIspqe2f7/IMXnnv62Z/52U+LsiKJWBRkBlGW8yROxhPbsizLLEZ+0BsMAMTVeoMoMhakg6O2rqjD8UiR1UZzlmZZFOeqirCALRP3uikiApE0VTcWVk4c7O///C/9oohJSoEXhiQlQZyIksAYI6K4vnpiY31dQDjOUns8CTyvoOkiIVffuKyraveoXTDN+86e+5Mnv/l//G9+/Ykn3k8TcPXazTD0L73x2kc//rF6o+U4nj2eJEnAOAWQCAKJEwAEhiCTROnd7tF3E/cWeRAAogjmZso057IILVOKIzvw7aPD3VajUq+UhoNeqVD46lf++NM//QlD02bq9ZmFxXans7q6miSR77qf+MTHBoMBQuD06dOe59GcKZomYOzHiRtGikyW5hr90dAqV5dWT3TG4etvXP4L/4dfTXMmCLKiSgDhPKdJnEY06veHimZwAOcWlg739zXDyij3gtA0rDjNOYs6vX6pVNZNi0DkeL6qaFHEo5Bqut7rDdqdXqFYMSwrSlJR1QFlTpCIkkJZVm818zxPkyyKovm5hVarxfKciCKfnRtNJookAYQKpqnq+uc++9mLly5ZhvHQAxdYnv/OF37n6htXHnr4sUZz9nOf+6wkaYpCnnr64qmNtTRnHOQQSUQkYRRIkiwQ6SfWtnsJEOQpMHUxp74i8aKpaKpUrxazJDg63MUIuPa0fbS/MD/7ta98bTIc+47b73YAZ7c2b2qqvLZ+olapnDtzBgAQBIFmGLpp+r4/nk4p4Bmj7W5/MJ7W661Or7+8ciLNckXVsSg3mjNJlgMAk5TGceqHkeMGw+FQ14zBaFQslQ3LEiVp7+BgZ2c/SrJavZHmlAgSJpKiGJpegFCgDIVxMhhOZAUQQbIKpWqj+cLLr5ZrDS+MVMMM0ySHwPMjVddVVa3Ua61Wq16t6qoqS5IsipIomrpeLBQsw4AAcEoPDw5OrKxUK5XTGxuaql585aVf+7W/9MjDFxrN2ksvPmvbo2vXrzne5OVXXqQsjRKfQ26WiKgKhOB7nDngXpM8EIAsi4oFeTLJJREoEjRUMjuz7Nhuo1a98sbrJ1ZWHn/kob3d7QfO39ftHBqGIRKcJ9lPfeoTRBQBAEEYua57/r6zR4edTr+HIGnOzAAAD9ttzuDKiRN3tm54USxrRmcweuKDH544f3Tp9cu6KiNYl0UBY57mWRzHcZIHfmhahd5goGlar9c3LKtYKiuGbjuOGwaGqjVbs0QQaRQ7rleuVtMsd1zfVI3phPphJMry7t7e5u3bH/jgB81CYew6w+FQV5XA80xDwxDGYYAhxABIoshzyjkPPd8LA0UQIcEzjeZRt3Nq/WQQR/Z4wiC4s3nrwgMPvPLKi0988INPPfXtmZnFTu8gp+zx9z/8yksvUJ4MJn3LxJVSBSHIAf+RNke5K3FvkQcAIIrIUKRuG3MGGUsJBvOzrR4hqiI++tjDr796sds5OrG6fOvWLVkiCwsLoiJFcRCGYW9nZ35xMQx8SZK2t3cwIoZhhFF6cHCQMYoRUVQ1iCOrWAziqHvQL1Zm4szRdDMKgt5gVDC1SJMR4pTTLKUsy/OMaprWOzgYDAZBFEVJ4rputVp1Y2emVrVte6G2ECWZ43j9fr9QqkwdD7uuS+zAdzXDwJgMxqMPf+zjrfm53nCcpJEX+rIiGQVDVRTA2WjQZ3nuQzdPUkmSGo2GUa/rQQAhnEwmlNJyoRiGYeD7MzMzvV7v8ccf932fSMKffP1r8wuLzblGudIgonjr9h1ZFSFmk+mwr8KlpUqcxBhiApkq3sMVDACAd+tuRD+wXTkEQZq5QXTn9tZRu48EBROB5kCUlBMn1kVRHPX60+l02O83qjVRQKIoSKochqFq6IZhpHkuCIKianGaTiYTRdP2D480Tbuzvd3p9Kq12pnTG449ZoznXApi3ulPfD/Z2dp68ML9CzO1QedwcXEuzdMkB2PXC1KeZdlk2Dt/9uxoNBqNRkEQHBflSJJEVVVJkgI/xBjfvHnzsccekyRp2O9VitZ4NCiWy51+x3bt1tysYeiSJAHIJIFgwASCAGXT6VjGZHlxcToYZ3GqqqogCJIkFQoFSZIIIWEYHueES5LkOI7jOIPBYP9gD2FYKJU2b90+uXE6B0jVjfsfuLCzsz0Y9Ozp8P2PPXh6fVYAIE9iThNT1dE7dve613BvSR7EgYBxwbJ0XQ/C7TixrUJF00xJFn//939/ZWVFk5XRcFgul1fWVgSM72zdrjbqHCJJlCVFITnLaO66ruN5jLFJu+1MJ/sHe9vb23sHB9Vq9Y3Lr54/e1rVLEUtCaJsFgq9/tYDDzww6LVrlqbIcp5n9mTaH40l3QqjtFgsOiNICNrf3a43m4amjKfT5cVF27bnZ2b3Dg90RYviuFGrvfbaa2urqwXLsieT+fn5ixcvzizOtWZbw8kICWQwHsiSQLPkzu1bm9eu0jQuF4siwWmUPPLAIx//+CdUSfajEDLuR6GiKBmjgiBEaZKmac4ZY0zW1FarJSvSUftQEvBf+i9+Nc7yV19/I6fZlatv3H//fUnqJ7EXBIHtJqZCIARJkglCogjKPau83VuShwHgJQmR5Xa7v7W9L8l6qVIdj+2dvf1qpaGqqmVZk+GoWDRpmmVZtn+wd+b0WdXQdV3NKI2jBCLged7+4eEf/tGXr16/fnR0NDk4AGkEaI5nZmn7CIhiYXX98fd95H1PfMwqNt+4cnV+Zl7EXIRMEqCpykfdTrc/ai0u7x91W7OzIE+JgAPPl1WFZnmSpc7UNkyrVCyWK5WDvcOc0stvvHH/Aw9ADg1dVUWiyNJwOrFK1tienL3//JXrVwRZHI96//Jf/LPJyy8CwEHBBK4HaA5KZeDljeXVv/O3//ajjz2WZ5mqaYDzQlG2p3GW55IoYkLiKAqjyPe88XhUKVi6oR52+8VSuTscpYwtLC0yxnrdznDQqRYLi/Ot+Zl6ydRYlvI80xXtJ+S52/BDyANzCEa2f+v21tFRr1CszswvhnGyu3+AIDne2wMBpspyGAVFq2AYRhimMzOzokhG0ylkXFKlm5s3nnzyyX/5P/9jALlaLEqqXCqaACFZlieTSRzH0+EU5GT2zP0f+tCnHrjwUK/dPb2xZg+6kGcFQ+l2uwlDpWrt0pXNWrNWrxbTLKmVK27gO5MpQPj25uba+qlmvT6xnTgIXT9UJClKEsswLN0oFXSCAEMwTCIoETf0OAJf+L1/9+pv/SaolirLSzOVMk2TNAxoGidxbk+iJKXZoPPwJz/9f/7rf90qFkuFAsS41ShPndCZTqeOk0QRQEgWRYxgGgaSLKi6mVIWJGmj1RpPpznLg8ALPEfCqFYprCzMt+pFAgDPqUjwT8hzt+GHkgeAo+50b/9gMLE5ILphyorGISaiSCmdTEdJFLmuWy4WLEM3C0VCVIzEPM8opQiy3b2d3/u93/nDr/wBy5LF1eVSuaBqShwGSZIkaTQ/t4gFcTB2Do+Go4MeNGt/9b/5a7PNmUrRlCGLfKdWKXS6XUUv+HGytdeu1KsQZmvrq4PuQDOMwPNG46kqy5QDQFnOgIDxaDwtFQoZpZZhAMbKBcPQ1YnrtuZavfHgqNf5zX/7G9svv1g9fXJ2pi4RPO73YJbONRuaLNpOIAula5u3CUQHl18Hsvo3/h//91/4uc8tLNemo5hIooAQBYDn1I/CJIw4y/uHhwXTjJK01mpljEd5lrGccQ4gR5BnUSgLqFku18olTRUgZbKA7lny3FtrHsZBlgHHCVRFP3N6Ls14fzSe2G6a54qu2bbd73crpRIkCIskZqkBoVUsxCFVVFVTwbVr25//whe++kdfBqF75rFHFpZmlxbm5+ZnJ9PRzvbW7//+799+5WWx2jQK5VNnHnTnly+/fPm3/vVv/D//zt9hNLNKliJwy9DixOKQDMajWrVcKhf6/cPQ97I09NxcQHhhfhZyHkbJ66+9dvrMOcSRpsoHe3sPPPiggPFkPAp9XxZQwTI4p3ESbd66sf31ry5+6uPlklmrlGebDe3CfVdfu/jkl74I4ujkI++zCvjX/spf2bp9myI4GY2++KUvEUJOnz17/uxZTqnv+14QQM4zSjGEpqbPzc0jwL/95T/87C/8QrVaee7ll+YW54ejUblc1nU1BEBEEEEcxYmuCgK5Z4kDwD1oqY+jbDAY9rpD1wmiOKGUE0JkWdE1Q5SkcrVSKJVmZmYESRIkCRI8mfpBlIRxftR2nn3h+W8//QzI0sc+8YnH3/eYrqrVanl2pvnQQ/f/4i989hd/4bO4YIoSGfe7t+/csgzj5Pn7At+5/PpriAPOmWWZRMCtRl3ASFGlctHKklgkOPAdUcCh7/m+K4sk8F1ZEk6d3DjY31VVSZGEBy88sLezbeja4vysSHDRsixD6/U6hqZ8/h/+g4f/wq+srC5HcTg7N3P61NoDF87/4i997tO/+Dmj2eh0Oi8///z/9I//saJpP/2Zz1Tr9b2Dg5deeYWI4p3t7YltI0KsYrFUqWBBcDyv3++7rru/d/C+x9+vqhqldHFx8eqVa4SQ4/2u8zzHGGNRoJQyCu7psNB7gTwMwLcfHIDxdMoYUzRNlmVKKcZwdnb2/vtP37h5nTNWLpYODg76/X6WZZpqjEajo4ODg729V1564Ut/8PtPP/10HATN1dULjzwyntoHR0elUqVYLOqKXjCs5bkFOp367S4GcNjp7h/syKZUnq3+2y9+PoVpnAayTECe1UtlVZUa1ZqiSd3+EU3j1YU5ezo2NYUxdvmNNyRZdRynVK4szC8CCAtWyfW806dOVWtlQSRLy4sUUDcOZpcXfvt/+x3QrEmmvr23PRgMylZhsTVbVkxD1EzJlIgqIsmwLG9n+4u/97s0iT/wxPtlRbp6/fo3v/nN7d3dw8PDdrc7Hk+9IGIMCETSDAsTcXn1BBaEMIoAALVa7b5z5xRZLhWLuqJigBHEEGA/iMZ24AXZu9297ybe8+Sh/M0H55xzDjg7fkDAOeeUA/5WhR0vosNJkORM0jRBFqauPZkMszQmkELGTywttGqVgmnOtlrrq2umZmKAZ6otS5JIGg87h7//u79zc/M6EMnP/5lfirP828+9MHbDqe3Lol7Uy944uH3ldrnYUpkAnVAV8MHRzt5o79T7zjIle/3O65IpRKFbLZYI41XT4iyPs3hhcfbsqfWdWzdlCNMwmGvNCKK8tb3LIPGSPMjYaOr5SYwEwiGL40hWJEmVkCpQGd1o7379yT9e+OAjjeXF7nhkj6cwzvNRkAwCMRLiSTbad/IAsDCqtGrRZHj7xpX7zpx+9OGHpqPBxUsX/+iPv3LUaeeUJ3GaZxRxiBiWiCibVsJAbXYOILK9t7u7vZ2nSRZGOzc397e3y4VipVw2C3qas6njcYDY3blk/o/Ce3vNwwAAHDAAEAQMgDfj4yEDALxd14VDABjIIaAU5hxIilpGGGDked54nEKYpWmSp0m9WkEIpTkltZqmGnnGPDdIhRTwXFJIoWiurC+PX7eNoskJmk7cSadjT8evvvpqtWBiyp576tuvPPtCbHsKEggECEHOUzuaIhUJZe3itYs/85EPKqKMIcQISIJoaEqCEeM5p1mpYBEc+WHieX6j0WCQQCQmaUoEQRQEDAHkVJQEURIAz8PAK1YL9jCaejYIg8bMzOb27WRzE9je808+rUW0IKlHB9292/uAQ2fs6JaEEC8XC5dfv/Tpz3ymWikWqmXP81ZOrAGEJpMJzWjRLBKI0ihhec4Rb7YalZrCuSKpUhzHoe+xPM+SxKrXVEWxp26WZaKsWLpBhJ+kJNwD4BwcFzQECAVxFMdxFEUcAE3TEMJBEKZJ1u127+xsM8YwkQRBIITUarWiZRER67Xy3Mryc6+/VqtWZVUdjscAAwT5k9/4xuUXX8CUjXtdkKSKIGKM/SQSEYOCxF3X933TNK9fvw4A0HUdIUQIUVVSYIU8jJI8wSx3BmPHDaxiOUpyBpEoyaZlHbXbqqpapslpnqWhrEiqqoI8xYKgEUEXpb3NW6BaW6g3Lh3sgygCreblSxfHW7siR6PRJIrTWqWW8DxlcQ4YEqC3sz+ajq1ikVJKWb62fqJcLhNM0iRhPBdllSAkCMJLr75UaVdbrVaz2TQNlXMeR4kkSbVKJQyjPX9fEIRSuQAASGnO+b0yfn4g7t7GH5d8fUupYAwcr3GTNDneIIAxFscZ51yWFVGWpxN7MplEUTQ7OyuIiq7rWZaVqhVN18M4VjOLiShJI1mVzYLpejaIQ8nSgsP2wVEkySqmuUqEMPTMcjnxUwyYoKrpZDKZTExdHzue6wXqzAKIKUREEomFYQQRznAeRikDHAtWqRYPhhhiBgBCCAAgS5Jl6CxP44jLkqDIAmLIFKR2r405e+rrT67MzaM00QQRFEuKJDu9gd/ty1jiHGiqgTD0vYAoKKa57zpAFEeTiaQqXvugVC7PzMw0alUEkAMRZDwOwzRKKaDr6+u9Yf/atWtBEGysrx/XRZFleW9vr9/v53lWr9dLxWJOU0VRmHFPx7bdveT5bjD2puShlBIsapoZx3G3O0yShHIwPz+PMU7yLE3yPGOYcMMwDcNozJS8hKfuFIfE9l1AszCJCCEIIcA5y3KoSJV6taRq034XJJkoiynPgSyknOa+CzBUVVWAEARBp9MhZ8+zlEGCIcaiKBIMCRO9xG/MLnMGREkhUliuVhnjnu/rmiZJkiiKUEQA5BhjQojIcZ6maRhGSXjw4kurH/5A6no6JiDLo3Sq6rrIOKKAEJIkiTexGQRI0BKagjQHssgIcMMApGkQB1kSQwjLpbKhaTznCIA8ySilqmm6gX/r1m3HcVRZrtVqgiy5gT+eTsvVqirLURQORyNFUTTVSFMGpPf8svk/GXczeSCExwWoOAeM8WPmAACyLPODII5jjLFZKOi6njPWHfQJIffdd9/ayZOyrAAAgiBotyeFWpEIGBOk6SrUlMloMJmOGs06EHDOKRaJ7Tqha6OcKpJAgOBzKlh6hhgY22BtbXlxsXvYAY53Z3s7ZQAByBHOGaOUZlnGGMg5RpBgSYKCYBaKlHFKqSAIuqYxRjnNBEmQRQkAQGlORBJ5SaVc27lyCTDQPTy6cOF+VVYAhKpp6aLkDkexHximmbKM0QxZGsMIMAY0FUSRaVlXrl/DMzOiKMqyLCtS0TKproOMYYwhA1mW3bxzh1Ka5/nm5i1Fkt73vvchSLrd7kyjRVnOGBNFSdO043pXGCN+jwaFAnB3k+cYb+6f8BbSnAVh1G53giAwC4WlpSVDN3vDgSQqHGBF0x3HjaKYci6JSp5lkePKGCqY3H/6zPP1xsGtmzu376ytrH6tYGVRiAhmSZJliaKpTpolaUJ0jQoIAABU9fTZs6qqHh4cAUG+fWc3TnLMuAxgkuVRmsVxyiBikHgRlSSac6Qa1mQ4IoRUKhVZkobDQZIkkiwSQo7JBhQiqloQBJubd4BVDEbTyXhaKBbmTm0c7e3mSZ5jDgyFywIkCEDKeA6wBDCBojC3sowkcXNzs9FoPPLII4uLi7qux3HiOE4epaIoAspd35cUrVaXTp6K0zxvd3t3trfL5TIDIM7Szc1N1542m825uTlBwAAi+Z7W2t77pur/SPC3EMexKIoY44ltj8fjPM+jNDkuOHi8zZsXBEEUeZ6XZVkUBOHUljjQsfDAxulmuQI87+jgYLbV+vBHPwo4Z1FIykWpUUtEkhBoLcxRmfA8BoiTVmt97WTgBv3b26BU6ffHcUZzjjMAkpzGSZbEaZryJGVWqWoWK1PbYxwWy5VWq6VpmmFoAIA4SwEAiGBGQZrTnAMoo9v7R6+8cRXkDITJ5s3boqScPneOx1GaZ0KpIBR035nGgSuXitbsDOAACCJP00cefTxO0+H2Hsb4ox/5OCEk8MPeYDAZ22meW2ah0ao3Z2bCMPR9X1XVer0ex/He3j5j/PSps416a2NjY252PsuyyWTCGIMQ2nZyL6eT3rXkCX2fUorQm7rbcZ2XOI5t21Z1XVH1mdZsvdawXW9v9+Diq5d+93d/7/r1GweHnSylEOBCsZzmWRJG/b2j4e7+rFXUIPrE+59onli7cun17e3tz33uc+WlReB7OcGJgFkUAoycJESGBiAAnveLf+aXFubmXnr2JbDfLs8t2U7wjW89Q5HghLmXZEGSxRntDYaQSJWqJSlKvTEzmUyPa+cCAIIgKhQKpmlOJ3avPwQQISS2+/6zFze9nJdbs4WFZQDQ4Z2tqzc3ZxaW3/dznwOKmoxHuSyCWhHocswyZzqRCgWwf3D6oYdr9eYf/uFXAMQPP/xwuVwmWMiyHGOhXm/Umy2ERT/IgijxgmBmblY3LMah50eSonieNxwObduu1+tLqyv1Zmtnd38ydSa2PZ5OjxeTb89N73a3/6nirlXb0DFv3jQVgDzP0zQNkzgIQzcIwzCEBBcr5UqlMhyMC6XSyVOnq/W6ZRbTNB1PJ0mWIoQwEgiAZc2MXX+21virv/Zrw+Hwn/5P/+O/++3P/9wv/9Lf+/v/4Pf+4Pef/Cf/GBQKoFIF4zEQRToakpmZz/38n6mUKq+9eHH05FP6hcfOn71gyhoDwo07u7qqyooIISSyojCc5KzT8fI8CUI/9Lw0TQxFjqJIkeU8zyEkullAYRilbGz7SU7tMHv9yuUci3/5v/yrW9u3/+A3/sWVy9fnV5ZVw/zAT/30sy88x6+8DkplUCoBPwKUqqb1K3//H54/c+5LX/pS75XXy+fPP/bo++fnFwRExqNpvz/kFOiaYRgGQiijuVmwjlPl2u32zs6OruuSIFQqFalYylLqucFoNKJpBgCwLKug3dN6211LnuMVLQeAMc4YyLIsiiLP8xjjkAiNmZbv+67jd3vDO3e2ut1uljJJ1iyzqOoagjhL8/5w6A4GM5o2HdthFHW6gxOn1v6r//K/ohD9i3/wd3/zN34rBfx9T3y4Ojd3/dbm7e07SaUyPzc7XysvzS+cOX3+S7//5cBN/5dvPGVP/G5nUCnVfT846Axr9arJAUKIQgEJmFPabrcxBmmWIEbDMCzoWpqmWZq6rquqqmGaAoVxHKdhljLenrgL62fm83g6Htx338Ozf3t+e2/rj/7Vb84+euG+h+7/s3/xL3aOPtQ5OOwdHOoN+f5z98mKsby08vxzLz79la/NPfr43/t7f+/RC+fu3D4ClOc5E4jMCGAQ2Z4fxFGWZQJGV6/dGPb79VqjOTPc3d9jjL3v/WU38DkCaZ5jIkEIc86iJBUJAPcwf97bKQnH28QfRxgAwDEAAPDjCAOWc0QEBkCcsTzlThi0D7u77c7OQRdLcqlUmk6nk6k7GAw2N29hQfjwhz5aqVQoZ47jaKperVY1w9BFKeh0TVlRdM0qF4I4JJqkFwuvvHHp7/5//uHOpVcW3vf45/7sL43t6WH3qFAqaZKI80RAaPfO3uc++0sLraVbN3dv3NhaWT0JkTgaj03TbM3OAp4nSYwxzDIqErXdbpuGQRBUFTFLo5lmHQAw6PejONY10yhYaUYpBwSLEaX9qbd3eCBxDmlSsdT+8OjMfWeCzH/1+hvPvPgMg2zj5BoBMA8DHQuAAiQomzfu0DT/zE//9C987hcVSZoMx6qqplEahPHhwdHBUSejzDDN2dnZxaWFOPBUWTrY2/v2t7996dIlSRbnZ+eq1aqhK6qqUpqrqipgvLS8UK1W62VzrVUQIHt7H8V7ZEPFY9y15AEcAYgoB0nOWA6nvre3c3Bn/0DWixMnSJJkMBjkjEdRtH94WC6XTaOwsLQoClIYhqpmyLKcZRkGoKzrpqYdHR0Vy8WllRUGmaAqWEI559969qknn3mqO+7rhlGpV81CQZIFXRFXF5c++Njjscd0Gf3e7z79xhs3lk9sICJ7UVwol8rVcppEaZYgwCI/KhZLg26vUi5rqmgZehwFlVIhTZJOt0tzjkSJchAlmaqYoqw4Qfjcq5cqlcqZ5WV/0s9Ce2oPPvXTn1CLamXBuL51OPYmoe/29vYFzquGGQcRg8r84tLZU2crRRgFIPSYZ7vT8Xh376BcrjKEc0oREcM4TrK8YBoiZFkUYIzDKLh5/fqzzz7rB161WlVkEUKoSNLq6kqpUFhcXJybmzu1NluWwT1LnrtWbQNv9SJCCBFACAEAUEp9L/A8b3Nz88aNG2GcHAfsQAirtcaxrj8ajdQoUVX1eHOrg8Gg0WhotVoK+Z3DQ1mRzEIBYTBxph/7yIc/8YkP+1Eqy6IXBt3eEGJWn6lVTd2ehFVL3bvthI7/gceeuHL9VnV2ngLcHzvTMJJEIgkE8DyMYkI8USQIcIIQ4FQScJameZ4Xi8Uko0lKHceb2L6s5IKojlz3gx/8aL/X63WHQp4IHIOIhrZXb1ZjD5xamxs71TgOP/3BD+gAhHZEkMAE0u447tQZdbP2wWEWp7IguY4vCFIUp1PHyzmotpqCrGUgohDt7GzNNesAgDu3t1zXPXnyZE6zdrtNcy7JxDCMWq1eKliGYRBC7u1S1Xcxed4CQgBCcLxpFACg3e0SWQ3jOMkyAAAhZGZ2YWX5hCTKiqymGeUQIoQ45ynNMWeyVfjfvvlNXVE3Tq0rRGCcir2+IonFkvX0N54xLX1xaSGFkHO2WG1AASiGHOdcFiTPA92jzuOPPH7txnalXIOAZDkbTCcAwlLFkiURAiYimGVZuVhEgFGaxzE3NIVSKkmSpuu2E2Q0EwQJwMgLExjzMMqee/7lpfnZkmZoXEV5pDaRDAkNE0VTUA4QgxIkoRO3ux3meK2Zhddv7hBZ55T2u32aZguz87IgO7Y/HTk5sw867SjL58JIUvUwiYuGBiDaOzwoWYW5ubn5hblbt255jlOr1TRFrVQq5ZLVbDZlWTILBYixbXtV1Xi3e/hdw3ubPAgACt80t6O3N/g7jqeG33kPh0DCUBAgQaDRrMua1ev1EELlcpkQUiiVTdPs9gZpmsZx7HtBmnHAoeN7oiRJpnH/gw9JgtjtHJWsQsHS4zBaXFwcDfoQIgEJ7sRL4tAqFsqmmNL8aK9rFUuYomtvXG9UZw8OuoPxVLGKfpamOYvChGGuJ1qaphDwRqkoE6FWLIWBgyDlNFVlPc9y05BZyu00EyjQZFNT+DgIcw6gKO3sXJlv1iNK8ywRQaarahin3U6vgupuN6y3KqIibV2/445GZU0/2OtUizWAxSRJWnUUBMHBwVGW5qZpOr6nqLqqqoQxRVEooEmSxAKiYQiy2IUoTdNms7m+dlIWRddz9nZ2K6WSSNB0NJYloVktm6os3tuZpO9t8gAA8Hd0bPiO5++8ygDIsjz07Tx2AcuyDLzy2jPj8bhQNDVdaTabmqaFcVwqW5TlzUZLlLQ7d/bjJCWiatsB8CKW5yzLCSGN1XVGM0Elf/L1b9QqlXq1kuXAD5LAC6OEHx10KWDFSnHSdTlDqmJN/SDinEl4+3D/3P0PvvjaVyRFaTSbCKAgCFcWl3gay0gKbafRKCg6iYJxuURiJ25YcudgWMLC7ngiaiUMpU7vUKvXZ+dmPijL0363uDAnQ8kedSEiIWUFo5DFuYolr+ttbd/BCCGmqmYTI/Lqq68Vi0VZltvdriiKjutrmoZlSTW1JE51y1A0jSHG8rxaMoqGOfBtwFEWpdVqtVqqyrLs+z7Neb8/uHn1aqNWXV6cPXt6I5iMm6VCWdcwAuhe3eTq7m82AkASiKlr1XJppl61J9PpdDq1x47jRHHIAZNkUdM0QRDcwHUDn4gSwmQwnI7HrqxoiihbuhUFAcvzJ7/xjb3d/el0+tij7wMAiLJi6KYkykmae67veEES56P+OHLCJE4dLzhsd9v9HpHEEyfXDtoH58+fm5tpudOJoWnlQjH0fYKQpWoSwggAluelQglQIGIyGY8lhHVZqVkFSFkSRaViGWL8ysWLkLOZZt2yTChh2TTCND3qdV3P29s98Caeb7vOyAYZMo3iQXvw73/ni6dPnRGIuLuzlyZZnlHO+eVrV7/xjW/kea5beqFgEgHpqrww26pXSiyL5putarksCIJru+12ZzgcUcpM0zy1fpJz3u+1aZYN+l3EmUwAgvf0btjvbWvb/x8wxtB313VxXfeoN/5H/8tvtfsTTGCz2TSLlqqqlHPP9ddPngJQQFh03LDXHWc5kBUdQMZZWiqajWaNMYYROjw83N/f45zPz7UKhQKneZqmznRaq9XKlVK5XNY0xQ9j1wu8MPGDKGZQ1wu6Vd7ZPXBcNwxDQZYqxcqVK29kWfbIfeeX61VDEq2yiTAvlU17OtFlJXQ8GlPb9id26KRsezAKITFaTd/3TYJblZKmSTxLVZk49sgeD5YW5hx7apna3NwcISRN8qOjIw6hIIiWbmQZHY1Gqqp2u92JbbuePTs767iuWSgoqkwphRgfx3rSJLG7fcYyzjmCRBBFURSPCxgAmtE8ufL6qzSN11eXPvPpn6pWCiVLFsg9MAH/ENzN5IEQHodRH5vasizrjZw/ef6N3sjBBFqWBTDEGGNBSNJMlY0ko1PbG09cjORGvSUrRhQHAKTdbkcQ8e7u7sbJk4yxOI4QQqWiqes6zVKMcRyGlmVlecoY29hYd12/2xtMph7ARLfKgqIziAiSDo6OJo7d7XbHg6Gqqo1mHaWJBmijUhUlBUsygGQ0GrVqFZomjCW+42YcyIbVmXqb+0daqXry1IYEgaEqikw0VS4V9MhzOgd7lCaqIjYaDUVRBoNBFCaEEA6h7wdJnPleEIZhrV7lnHued3h4mNP00ccegwgIgkApnUwmnucUi8W52VkWxWEQ+L7PONdUo1gsGoYhSaRgGi++8EwcONVyYdzvntlYe/yxR1QFYnjvkuc9v+b5YTi2mB3n8CCEEELHKQlx6Ie+i0XBNE1dNVRVhRgHURgn+e7e4f5BB3CsqJpje6ZRrFbLgowWFxf7/U6xUNjc3FxbW5uOx8Vi0Z3anu04ro0xlkWxXC43mnXDMDrtQ1GQdVVNkwxLar3RkFXNC9M4jgngOM+LqirVSrVaLc2S2zdvVTVFoNTxqWJUR2MvjJNDw0E4xSCRJO6HDkegUGnWTMkLbR4GXBIDP1WkgqEpLE8FgVRr5b3dHV2TAaNZEgsYxYhjArOcI4QgwhxADuDrb1zO81xR5NOnT7dmGgjCJInjOPYD17EnSRqXLFMRiKgUIAKUU0JIuVTRTRNDmKXJ8y8+c/LESuDbb7z2ylyrVixbSRpyikxDebe7+l3DXUseAACE8M10Us4BAEmSJEkSx7HneYIg0GpVVVVV16Mkdr2wXGksrghEUAb9cU5ZlmV5nlKW9w57tVpVFEXOuSzLQRAYhiGKIuS0UqnMzLZkWc6SRFEUz/NCP1BlGUFCBbFWqRiFSqlieQGPvNHUceLQ7XcPTV1v1kpp5N+6eT107NX6Ejze654KjOmKUnL9ACAui7mgCpQn9mRcbVRXFxqXL9955alvtRZmddNURJiXzCQJFVmcm53hNOkcHXqObZrm8vKyrIbD4dB2/EKx9PobrzmOpyhKlrNquYoJ8n3/tddegwBIAsnyJPQ9WZaXFuZmmk2BoCzLAACyLKuqqmgaB2wwHI1HQ13Xvv3UN2dbzZOnTuiylOWJZWpRGLzLffyu4m4mD3grwu3trTMppWurqxQJvu+HYdDr9axiUTesarU2GI4Ms2gYRqcziIJIFKXpdOz7bhh5gDPD1BzH0WTl4suvlIpWmqYb6yc8QQgDpCgKp0xXNVESBEFgeW67kyzNzUJRlgTPiTvdfr/XJ6J4YmkBpPHTzzx19crlUydPaoqUhd7lS6/Kom5aJ0RXyYEFsWB7FKFcnzGuXn/NNGi1WvTs/u1r169d2UoYKpatRqPC8ywNfV0WZQHrGpmbaRVMAyMwHIwGg4Gsavfdd9+drd2bm7dEUWy0WrVajbLsaP9g0htOpxNJIoNuz7QMQ1N0TWk0Gq1Gw9SNnKYzs62JbdtThzGWpLEsy4WipWnSwf72yupyGgXT8Whm4+SZUxsIAYTvoXiC78ddSx7O+XGdvrfNBhhjhCHCsFGroVZLkKQoSTlARJQ0U6OApGkuiNLy8jJgYDyeBEFgFYyt7Vu6oe3t73DO72zeEkWxXq9fuHChfbgvyzImyLIsDJGiKJPp2HMcU9PTNDWsQq1Ww1joD0cQsMWFec/z4sA/d2YD5NELv/PbL2/fPPPY4wLiLz31TdGsPfRIgSOoF+Ukp2lOFZ3kGX3+d38L4OTBT364c9jtXL0xs/7If/3X/tuYkLVTp5I44CwzzSLLM9f2sjSOQn88Hnfa3WKxGMXp0dERBHhjY0MQDgajyXQ6PX1mo2QVwsDb290ZjQetVkuRxZlmfX5hTlPUOIlc2xYkqdfr5ZQLgoAQEgTh+DYKIllaWjrc2w7DYGm+lSZhGodUwgK+d2vtgrvYYJBl2ZtmIgAAAGmaRlEUJvTJ517hRE2zzAlCKIjlSk3WLMqBphmTiT0eTdIklwSJEEKzLI7jw6MDTdMkSUAICRhjjJM09jyvUiqUSiVFlkzTnI7HcRwvryzFcXy0f/D4449feuOyVSydObPa7nqEkGO/bZyEkDPL0of93r/5zd/43X//eeAMiWbkMVo+8YHFlUckY/Hmnb1itVAs4itXvzHafRXwMUgcgMQPf+pn//7/63+YhunCqeaLr+6Evtdq1UWC5+eq49FEIIhzPp1Odc0cjsa243EEJVGZmZvf3W+/+tqlUX/g+36pUKg3aoCzRq3SajQA5OWi1WzUIeej0ShJEkXTUkaxIOZ5niSJJEmWodM8tafjStmCLIM0EhDXJWKZatE0NFm5ZzfnAXcxeY4Lw76TPHEchwm9uX2YAwKwgCVZUFQGych2R8MpEeU0ybI4o5QigBAAx0UPGKOaaXBOO51O5+gojmNJFkVRnIwG9Xp9dWUZADAZjQRBaM00Z2ZmFEUZDoeqonEIJ1NbVfRStUIIoWlmmVqWpIymS4s6RuD3v/jNf/Ov//XRzs7O7a37H/4Fs7TqRlKYgkKpsHay+dyzX9x97RvNk40H79+4/9z5hx54+P7zDw0mcSbJggooBYGXjEc9gSCBIARAkiQIIUFUDMscDcdpRju9gSgrtu05nq+rahAEURRJoqDK8srKkqFp1XJJksh0Op0MR3mei6KIBJJzmDIGABBFUVMUIiCWZzSLFJkAmmKWKRIsGWqpoBd0DQL+drW8exB3rdr2PeG9xyocIXB5eak7GPdG43hqc0HkSKCASKrCKVI0WZapM5kOBv3A8zCAkiTNzs4iDsaTyc7W1t7OjiAIi4sL5Vq9UrQwxpzS4XBomubMzEzn6PDw8DBN0529vU9+4lNEFACAxUpxf3+32WxySiuiVq+IQSB6Di2X8M9++mMbywsvPvXsP/9nvymJrFk33J3h/vYuRssyLoMsrMzPffrjH3780fseuP/+xfnZNAW6LruUGxq8fWdEs7RYMAPf1RSNZinNYBhHr1++PDM7HwaRpptBEARBgAVREgjNM9exR6ORgGG5XK5VSlkU7e3sUEoty9RUlQHkhzFEyPaDIIklSapWq4IgJkmCAJNlyXNdTiMBUMJlZIBj6yWGHKKfkOeuw9umtmMcVxskgLI4wRgahqEw5CXpxAspx6JiTCZ2GIacUl1RZ2dnszA62NvbvnNne3s7juNev9PpdCRBOH369Pr6+urq6nDYazQagNE4jhVFUVW1VCr5UfjGlStLK8vfePKbn//85z/4oY/U6/Xnn3/+f/j//qPTG6uhHwMmaDIOQ3/QhwVT3zi5qkDUPRr+7pf+RNULIkFp3FGFxu0br46Odj7zmQ//mc/+fLlsEEiiiAGIBAk4nen2rs04NXT133/h87OtZtGy/tqv/NIv//r/aX19nXKgKhLGOKe02WwWCoV+v48AT6KoaKq60kySxPe8l19+WVOUW7dueW6wvLy8uroqiiJjDBGScZBkqSznApGyJM9pShA0VBFDhhnACAmCIImygDCgLKVUUsR3sZffXdy1atvxSvft02OHT8r49Vu7fpikFHJBtIO0M5i4fsQQmZtdzNI8DkPPcezpxB1PXGcSRVG11hRFERPIOdcUpVQqGboGIdRVeWlpKYrDLMsg5+PxOMvSJM/+5MlvnTx16s/9uT/rh0mv19c0rdNpm7q+cXI5i1NDETUVIAAUGWAABu0xj1G/O/6//Z2/e/XmbSKbGWWmaR7t760tzv3N/8tf/9iHPqAZgh/FSCKqQdwYDOwMQLS9s1WrljdvXC+XLF3Xn33q6Y985CMH7aPnnn/JKpY2Tp0BEAdhOpmOHnvowTiJPNfHGCuySil1HX84HOmmGQbxYDAcjUaM8lKpVC5VRVm2KgUOoSRJmqapsiwKRJGJrgiTflck1FSkUlGtFXVZhAgAlmeICO9iL7+7uGvJ8z04Lk+RA5hk8KDTP+j0Jl7oxdQNUyeMk5S1O31N0zGA9mjUPjqkcVKvlOr1+uFRxywUDFOTJKlcLM7Pz8/PzZqmSbMkjuO9/V3TNNM43t/fX1iYb83N9kfj+eVl0yTdrpOmWbVakSQAAZiMppIAC7omi5DRlEAGIaVRjmJSKlhf/dbT/+P//I+vXL8hEMm27QfO3fdf/9pffvTBhwBjtWadEpCCHErEiWKAFDeIGM1aDWvQn4iioEgShDBLc9tzr1y+tt/uyJJqe75pWM1mM0t9U9fSNEOQQIwlUS4WS2lKt7b3kyS1p0670z86OppObUlUjIIRxTEUkKpopmUUDLNQMOq1cq1k1UqmpUu1klkt6qaKJHKch0jBPUyeu1Zt+x4ca3EIgDRNj43Xnuf1xu5g4h52R73BsFiqHh210yhGAMgYY1HsdDq3bt0qlau1Wm15cbFYLBJCMMa9Xq/b7Ya+G0WRPR33er12u12pVE6unVhfL1ea5TADnb7b7ffG4/HEmdYr1UG/Wyoae/sdnsQLc/W5ZsOL/SjyLMWkYSogsnFy5bM/83EkZKPxcKau/dW//Oc+8cH38QwMeuOpMMkR4AqeDBwgCgf7t1ZOrE0mk3/03/+/P/Hxj3z4g094jmMYOsJwbq4+O1OHAsgzcH3z6Otf+5Nur3Ph/KlmoyoKsiiKacbjJFNVzXH8crls246i6ic3znhuuHn79ng8kRXlqNsOIz8MYkEQIONR5CPATVXu9wa4UaoWDQBAljGW5SIC+N7dUhGAe4E879TfEACmIRK5mlHaH41D37UnE3symU4cUdJozpIkdSbTPImLhr6yOD8zM0MBVjRtPHF29w5plhWKZqvZKFpWtVrVDW2m2dzd3YmS9IELJykFNzZHnAhYEKMwbrfb169fT5KkaJmqSGq1iizhgioRSBRFIRBgwAuFEpMAo2Aw6s7MNU+fPtHvmwWjmOXxQftQwlKhXCay7Hq2ppmeG1jlUrPZ/OpXvrK6uiKKYpIkr752idLcMIx6vUEhAhyVq4RgcO7MbOfoVLFgcRpymh/09pI4S3OaJEyU5G5noBsFVTNN05RERZYVVX/A8zw/DE6cOnlwuOc4jiCSwHPa7W4UehJmrXqJM0sSiCQhggFiEAsE3EtJ19+Pe0Vtext+FMRZ3u6NXr+6+crrmztH/YxLsmrd2TlAEGuKUi4WS5YpEsTSJIgjvVCpt5rVcpFneRT6GAJDlTVVrNWrlOZxlkqy0GzNlSr6aOpt7+zv7B4MR5N6tRaE3nFN6498+IPXr7xhGfqJ5XlVkcuWgQBP08hQNdu2KaW9Xm/q2p7nMca++MUvfvKTn1qYXchTLhFxbm5eUpRKTR+OwzTP7cAnkjK13STPDg4O1jbWAQAXL15cW1+v1+svvvji6sqJYqFQLBYxwAjBLIkP27u6riuaziH2/di2fT+MaQ4kWXVdbzqdplEsEMnUdU3TkCS6aXLj9i3XmVqm7tijOzdviJCdXFv++Ife1ygX5mfqjYqlSIgAAAAHnIN7NZkH3AuS57vB0yQwTctYXYZEyqigW5UMyIZVOXX6vB8kkR9AQDVFNgxVk0SICEWC43mTsa3riiiKoe9JAqwoFoQwCALdUFfX1nQL94ZhbzDAokCw2D7qcMp+6Rd+QZXFTvtwPBwVTWtlebFVrxAEsiTNkwghFMdpktFLr1+EGGZZ1m63kzgdDCa7u4fd7lCRNVEUL9+8cebMmWub+cmTJyGDrUrjzv5+qVTKKLUsCxHCAVB0o1Spjqf25avXdnf2fu6zny1aZPP6frlYbLbMLKsJsihKKkBYFFUIBQ48P4xd34MI1et1SZIkInCWB0HgetOD0Ui39GLJpDRDMD91eh3SRBJQwdJUXRJFfEwWChgGDEBwL6SE/TDca5KHA8BymnthNvHT/sjbPhxsbh8ddceFUjXLAQBAFkVDU3VdkUUBIOQ4AYNAESWEuD0a2ONhwTIW52dLBQtgWG9UzWLhsHO0eeuWommnzpxljAhEatbh1pbru7Ykkkq5FPvuoN+da9Wb9XrguWkUQAj7vU6338cEBmEoCEKe547tfeELXzh79lyr1Tqxuu66rqbqiqLoumFZVrFQ9oJAUBUn8P0wHE+nDz7ycLvTcX1fEITZ2VnP865fveq57kyj2azXT28stw97hqmnNIuTPE7yJOdZxnMGcgod1wvD0PcCmueEYEWSBEFgCDpJqhi6gFEUOCxNipY2Uy0VTFUh3NCksqlrMiGQQ0AFyCFC9978+x3ccy2naYIJMXWdw8zzMwwh4hxDHochx4IkSZCgJE/iSZClSZqmxVKZUU7TCDDmezYHrFourqwuI8CDIGi324dHB4iQpcVFSZaTKDKMkueHo5EGOSUYRmFw5WhPU2R/arMsjsNw2O/xPC0Wi6PRKAiCYrGYJAmlFCPhOOh7PB6XSqU8zxljpVLpOHSg3W5Pxvbtra2ZxYVKtbq3s1NvNp9/5lksCmEU1ZvNOAwJQvffd58mK7du3vzSF794fXnliQ++X5UVgQqcRlGY+G6QJDlDBAsiAEAURcsiCEMBEwB5nqZpmuY0sydjSRIUSciSsHN4lPrO4nxrZn1ZlYksIYQAoxRwShC+h1U2AO5FyZMlAGKOhBwAJwJHA3d7v98ZToZjL2M8pXmWZYAyjIAgEEHEpm4ZhsHy3J6MBIhazbqpq3mauJ5TqVQMU8s5hRAquqKqKoPYdeOJ7djjiaopr7z0EgTcdSaf+emfcscTScKlQmEyGmLAisXieDj0owAhlFMax/HOzm6/379+/frszLyu63Oz8+VyWVXVubm54XA0MzPjOI7tuoKkiIpCJDFO03K1+vqVy7Ozs1EcR2G4srKytLTEslzAGEP4za//yQsvPPu5z/6sZVmGVWCA2H7oemFKOceEc0wIEWVZURQB4ygK7enUcV3R0G3PRYAZmsqSKA7cerW4cWJ5cbYqE6AIgECQZznguYQwIuheDs+518gDAOCx5/lhQhRL0MQwBXd2prf2DvaPeinlUZIeywFJFi1D0zRNkaXtO3cwhBtr67IktQ/3RULWVldUVe31u2kWzy/MLSzPcQ729/f32x3bDl+79Mb29vZw0PvYRz76yMMXZputOAoIAhhBXZayLIOAcsrGw6HjeZVadTqddrvdmzdvDofDfm9Yq9U0TTu1cXp2dlZVVcZYntNyuSzLMkAIYgEgdHh0tLZx0nZdQZLyPE/y7A//8A+rpfLp06cNTSsVCufPzDo2CH3vuWefNk3TtIpYVOKMBUmW5IxxqBlWkmZpmuacEogg4jTPszz34ihO0yyJIc00WWo2aivzM616WZGwKgJVBAQCRhliVMDHMYD3rsHtniNP6rqiKAEixBkaO2Fn7Awmrh2kh+1+DmCcUS8MfN/PsoQQIkuCLOCN9TWJiEdHR8VC4X2PPlowwcGh3T1qx0mk6Uq9UUMI9Ppd27YpRFvb+51uv9FolIrWI488Muz3a5XyaNBbWlhw7Om43+OcQ87TNJVEAiEkorB1Z2dra+vWrVvT6dR1PMMwDMPY2Ng4ffr04uLSnTt3Go3GdDqtVCpYEIgoUsArlUpOaZymE8feOH1a07QwDDc3Nw/29iDjNMsefuihZrOpiBLmLI7jME5SCnMOwySfur7tB7pZyPKcUgoRRwhRlsdxnCRJEEWqqoqEIMgtXSkXLRGx2Hc31ld0RTBUQcQAAwA5f7tI6Lvboe8i7rk1j2gYAECQA5GAUlHNAXbDKLcdjDkAQAIwFRGViShhRVE0RVIEdPXKG41G4xOf/GSzjm/fnDz11NU4jhEAqqZomgYBEgRsWRal1A/DSrW8tra2t7f305/65LVr1zfW10aDXqlQcOyp77q2bZdKJQFj13URlBgDPE5VRcOIdDs9z/Oq1aooip1OZ3BcqVTTZ2ZmOOczMzPj8bharXa73ShJfMdtzLTSOC4Xir7ruq5bKhRWl5dNRbUM4+aNG+7UnmvNZEnCIAjDKIozzTDNciEHQOg6Ke0AllOaZlnGAIMQAk7zLM3z1NTVPM+zNDc01dAURZFEQAVopHGcEcCYcKymveU6u7dm3u/BPSd5WJwgQQAQAQ7CDBz2poedfm9kjx0XyUoUp0mWx2lKGRMEIc/TNPIef+TR++8/EQbg5Zdev3H9OkZCrVZDAGiasjA/e3R02GpVVVUOA08zjN5oTHO+srIyGvY4g2kcXrt2bWF+Ng4jkRBZFDjnLM+TJMnznFIaBvHFixf39vYqlcrR0dGxeaBardq23Ww2T53aWFlZURQlSRJCiGEYvu/7USiras6YWbAcz9M0DRGyMDdXqVTyPI+CAAF4bD+YbbYEQdjd3dONwt5R2wvjUq2+tj47mOQvvvwy5TzLMiIgwzBEgjlggiDIkhLHsaYotWqZ82w6HsoI1molnOczM3VTwxiANEkkgbydn3vP4p4jD+AA5JQyCAmiAAQJaPdGneE0Y3DsuBzgvaPD6XQqK5ogS0sL8x/9yNnJkG1u3n71lYs3N28zBubnFubnFi1Ta9Tqg37XNBTTNADIDENLs8SwCkkSJ0m6u71l6OZwNFBlWVNUQ9MopSLBvu/TLDs6OhqPx6PhGAJi27YgCIVCYW9vbzjqE0LK5XK1Ws2yLM8zSZLK5XKj0bAsSxRFTdM450ggmmFklAZRGEURxNiyrEqp1Gg0EIBJFFmGIREyHk/SNOMQbt7eqjdaw4l92O1ZxdKDDz5cbYBvfvvawcFBqVTUFAUiIIsEABDGKYRQUxTT0AQCaBIjzhRJKBp6q1ExFAQhyFMqYIjv7XKh4B5U2wAAAOKcUZABjgCljBBsqGJKYZ7L125sSpJcKVppRj/w+GPLy6VLr+7s7u5u3t5ybb/Rmi0WKrKkhFEqiMrUDbr9saovBFEsYOT7IWN5s6lYpra3u18tl4rFUhi4S4uLtm0bpp7nOWR8PB5PJpODoyPXtl3Ha9RnClbRMIw0TS2zAABoNpvlcnlnd2tlZaVYLLbb7a2trU6nc+bMmRMnThCCiCBwzksFywsD3dAc15UkiVIqioJAMEEIc4nl2dT3xuPx+saJq9dvF8vlqWNv7+6aheLW1la312vOzDzxxIX3PXrm2tWdyXjEeI4oqVQqcRTJkiyJBAGuEFFSFZ5nWRoKwneogjEG4HgrCn4vR+jcY5KHg4wCjAEDIE3ZxPHGE9v1gyTJRdUYDMcAosN29/TZs2fPz9++NXnh5RcESSCiBDgaje1Od+j7sSxqhm5CCH3frZaLJUuXZVKvlRx7tLgwV6sWCcG3b99eXV2llDq2fax0JVFECPEdt9frbW5u+r4vElIslEy95Hsh53ww7EmSBACYn5+XZPHWrVuzc61SqeS6bq/XZYxVKpVyuby8vHhcQ8sqFDJKsShQzlVN29/fbzWbIiGqJJeLRddxJpOJaRau3Li5unZyajtHnY4fZYft9om19eFwyBgrFAoPP/JQpSzt7XYDzxUwHAwGgqKJoihJkqqIpqpIogDyNInCcsG0LM3SJIzA8Z5hEAKA4E/Ic6+AARCEqSSLEIKMgtFo2usPHceJkhRjUZBkDshDj2wEAfjqnzwlEBHLUsryvaP2UbsPoVCuNFRZt51gNJz4jmc709WVBcDSoqkWi0atWjq1cUKVsOOMr1279vjjj29vb880mqPRZHFxcXd3V1GUfqebpumVK1cLhYIkSfNzC9OBm2U5hHAyGZfLZcoyRVGiOLQsK8syiLgkSQhBSilEQCDk9MmNMAyRQChjgiQ5vkdEkRByXKxDFkVFlCRBAJwHrtcfjlKEnnzqmcff94Gcs05niAjWNYNz3uv1SsVinibVcumRR84jALbubMVxnDFGASeEaIosCQLgDHOKISgXTEURTFXTVIEgwCmDAACE7uHonHtPbfv/tfdnTZJcV5ogeDfdN9vN3HyPHbEBBEASAMlkkqxOZg+npFqaPdMiPS8lMv3Q3fO3Rma6enIyp7KKuTGZXMANCwEQsXr47ua2L6qmu+rVe+88XABkVWb2zEsTjYg8EgKxcAmBu7rq0XPud77zfRUQjDJFwQABy3FanCOElDh2vJoQyPWab//0w3Ad9Tvd8WhSFMUyjTTDuHb9epaxYJ2MJ5dZWpYVKyvmuPXpbIUgo0WxWi3v3bunELUs0/V6bRhGWZZpFJeNUqLMEMKqqgAAjuPs7+/X6/U8z6Vxqud5EEJCiK7rRZEzxlRFk391XMs0zbIskiTRdLXZaOR5zih1HIcB4XpeVVVIIZSx69c3z0+nzVpdV5XLwWWv3VE97+//4cdX796ttVp/9bd/863vfKfRagIAdM04PT01dF1TyE6/l2fxT3/001s3rr10/dpoMkmLsoICQwg4K/KMV6WpKoall0XGaY4EU4hLVEUIAcGLDFMD8KJVngqAMCshJoQgKEBZ0izLsrSgZUXLyvHqi/ly5a/Pzi8vR5OaVy85U2teVNI8o0XJiwqWJcxzSksGAVBVNY18jDisikbD/pPvfNs2URhM8zTc2dlBCJUFLcuyLEvOORKIMQYh5JwjhOXXi7zUkGlbbpqmFaNlWXLOBGDtdpsLBiFUNWLbtmHoAICKUVZVgFcIAMOyLMdRdS3JMiYEQsiyrPF4rCmKqetJFCsYIwDOR5Mf/vyXb/zxty7OB+Px+LXX3+j1eu/8+t03vvKV1XJR5nmVZzXPdkxjvZzrmnr3/t1lkhiWJRibTier5VLBsOE6lqVXeQYFdxyz2255psU4xRBChbzI+fOFrzyfeZP9E+3DP34tQACFUFSEAagqEMdxmqYIq7brhmF08OzZeDpb+ZHgoNXpYERc084xNHEFQVGxHJQUAmAZKrSIpih5mvb2dvMs8pfTmzdvTiaThmcuZzOMRLvekceeg4ODm7euP336FEDIqqrT6czn83rDu7y8dB0nFsA2bcd2AOS6XkuzGEKYZkmjWc+L1DAMhGBZlkVRuJ7j6S4QjADAOUuyXFXVOI4x0QpamLZZUNbp9Q+fPoOCb3S7v/7Vr3zf/2//u//LqmCXF5c3btxotToHTx/Tovg/fu+//A///i+//PqryyytWBkEPs0Tx7E0ojx++rTd3zB1ldIqTaPFcuaYlqGrADDBKsErQkhFGQMMAMCheLE1D7/gHSsHgAFeAc6AYEIIIYAQgINP/ohP/3AgBOAMAAZsUyuj2F+tGC09z9N0K4qTwWj86OA4zGnOACOa7jUqrM7jbBIEJ6cXZUEVrDqm0W16NVMxCO3VdVfjN/Z7RKSIF9v9zvUr+4Zh/PztX44uxkSos9GCQJJGqYoVFau0KDzHdWxLQaLXbrAi3t/ulenaMpFhYYCKRsvSDGDZqqajZsulVVqvuxBy17Vt2zQMTVNJmkSEkLxIuKhczwnDUHCo60ZJuULMJKuSrLoczX/93ke/ePdDw2ncuH3vH376i2+89dVWvfXer97ViXLvpdvL+fjo2eM/+ZNvLWYT3VQs16ac+kkMNdXptBhGULDVYspotr+/v729vY6jlb/2Gq1me8OwPY5RyVnBWQUFA1yAF9pX8Qtfef6JpvOzL8FPkwcCwQEXAADAKoYwVBjOsiwv6TpMirwsmDgfDFvdnmHXSpjmJYuSNM5yzFjNaxQ5BbzQNE3XdYJgkWVQFDRPFtNYU1VoKN/4xteDIKBFAYXIkrLb6Q/OR5quzMEyz4uKMsdyAQC8qhRFoWVu2WZRFKZlGLpJNAVB6XovEBYAAkIwIURRsBCEEEQIEkIwxsqyjJPIMYwgCJSK67rBOTo7H4wmMybw4dFpv9+fTBcCKs8Oj771rW8F/modhgdPz67tX1ExuTy/2Oh393d2V4t5lsTXrl17/PixbqhuvUZpuU6StCx3d7ZEmWGIOOcE462trVqtlmXZZLHc6m+wBKRxKhitWK1Wcx1Dhy9y0/ZFrzzgf+XI+s/QRxDEhm6qqp7n+Xq9zsui4pwxduvWLQCA7/sAANM0NU2r1Wr7+/tJkqzXa2lY4vv+bDYrigIAYBiGFHd/+eWXa7VanudHR0eMw7JitXpzsfItxwvW0TpMxtOZ769VzSgpS/OyKCtNsyAijltzPE9RFKwQgKCAQEAAMcIKUTRVQIAIBggqmqpoKkCQA5HneRzHEMKyLKfz2Xy1XMfRYrn88MMPZ7PZ8fHJnXv34jjudDpBEOzs7Ni2fXx8zBi7ceMGxng+nxuGgTEOw/Dw8PAb3/g6xjjLsu3t7TzPsyxDCCGiVBzMpvPjo5NwHXc7G/t7VxuNBgCg1Wptb287Na+qeJZleZ7Tiv5vdFu/EPGFT55/Ij5LG/HJX2V7IQRgAHAAyoqvo2i+XAXrmJZVQdk6ip8ePCsLqijKer1O0qzX69VqtfPzcyGENA4QQqzXa9/35XMjPX9UVd3b2wvDcLVaUUoty7p2/WZZMSoA0Y3BeDqazafz5dwP8qJKC3pxMVoG0WzpF1QAhBXVRJgghBAkCCGMFEKIqui6rgsOEUKsEhhjhWgAAAhwXpRBGK+C8HI4Pju9CNaRVCa4GIxUVZvNZnfu3LJdt7+1NRgMms3mjRs30jR9+PAhhPBLX/oSpXQymfT7/V6vxzn/2c/efu21165evfr48eNut9tut8/Pz7Msi+N4NpsdnZ4cHx8vlktNwxu9zkcfPzg8Ob4cDaUwr6bqmm4qL7B0DngO2rZ/OuCnmSMAAEAIIADgEAgBIAZpUqyCdRilRFE13aQ8l2K8ebUwLbdWq5Uln81mRNE2NzfzrOSzWVVVlFJZjhSM4zhOozjP87fefLMoirIsJ5PJ7u7uer2+/8orR0dHJWW+vz4+PjMt48Z1DRP9ydMjANlsNmt3WsGTZ71ez3EcsmsjhDHGmCBEiKJyhKCuG7quVRXjnJUlZQIKweM4Wq/DaB00mrXj45Plwrcct97Z9IM5Z8BxXNM011F0dHT28ssvHz57IiA8OT29deuWECJJktlsduPGXrC+Ph6PMcaWZSVJUlXVO++889prr125cmUwGLz00kvh2k/SlJZlxYGmmYyL8XTGGDcM/Y//+Ou0qOJgleeJblimZQEAClppyoubP89D8kAAkPjkw+/i07LDJIIAAeeAQzAZLcbT6Wg4LmjpuLWiAusoXq3Wm1s7F5ejMIyaLRNCkRWFpxme583mp5qmIQBkwQEAEIQQQvE6bLVaW1tbhJCzszMIYRiGZVkmRfno4JmCcVLQvOImURTdXAXx8dGzvf2d+dIXiDx58iRM81arpRu26zmaphmapmi6BgDEWFdVoqqEsILSNFhTxmhRTOfzOAyn0+l2vhUneV5Suo7SLKeVsF0vTjLXq6/89bODwy9/5fXDgwPLspbLZckqTdO6GxuLxcLzvJs3b3LOZ7MZhNCyLIRQFK1/8YtffO1rb9m2/Ytf/OJfffvbZZ75vg8RMiwbQhjHcZGXmq6u12vbNmxdsWxHIBHGac0xlRc4c8DzkTz/K/EJ8CY7Nwg4AEhRkaKajusomud5iCiKZhmW9/Nf/qrR7BBVG41GXICdvb0iL3/wgx9Yttfv9wlCvu+naappGlRVy7IA43fu3NE0bblcHh8fO45zdHTU39h8cnCYZEWe51cZ1wyTqHqW04ePn4RB0OluMI7yghGiA0AYg2eDYT12LcuqOa5mGgrCAKOKMlRSVtKsLIajCeWM5sV0MS/SbDKdcwAa9WarZ/l+GCd5kuWNpgMySplQdA0IUFVVt9uN4rVhGOv1enNzUzOMIAgODg5eun2z1WqdnZ9SSh3HQQjRqvA87+LiQtO0b37zmwcHB9ubm0VRZlnOOCCEAIwAE5iyMIwMXfe8uqHBLEnDdcSrslGvgeez9f//K77wyYPAPwuXcggY/zRzJK7NwfHJ2WyxytLcdGxagYqxsmIA4Rs3b48mUy6qjc3+bL588uSJZpjXr1+fL3xVVfM0zfPc87xWqyVX2Wzb1jTNMIy//uu/VlU1SRIAQK3RCNbrVqvz4UcfrPx1nBW6WUVZPhxPa7UaQFhRDYjJ5s6Vbqerqup4MoqiyPPsvF66nq0QDWGAIEEYpElelNnlaAKREBwmScIZoEzQChSUebW6ZjiGZV/+9iHAmuO6o9HIdd04CREhWVFqmsa5iKJod3f3waNHVVWt12v2kF69erXRaMRxnGWZZVnXr1+P45hSKlG1ivPD42NKKas4JBgKBUOiKAoiyngyHo1GJ0fG9la/26rrmoEV5QWar/9T8dy+NRjjQgCMP6GBZmWxCsLZYqkZFlE1gIgQCEBEK7EK1heDUZZl9Xp9Y2MjzwogYKPerKqKEGKa5uHh4Xq9dhznypUrpmk+fPhwPp9//etf55wfHR0NBoPj4+Msy0zTNE1ztlgwIK7fvGXatuN5puWMxlOIyNe+/kcFZTdfuqNq1t7+dX8dDscTTdWFAFlWrvxgMplPprPZbDlfLOfz1fnFIIpS23ExVhVVw1hdh5Fp2SWtLseTJKf7126dXQ4BVmzHHU2mCJP5YuE4DqXUtm3TNOXWw2w2M02TUhqGYZZlWZZJE9+qqqIoSpJEnvc+/vjjk5OT7373zafPDp8cPOv0+lygvKSGZbe7PcOymu0uRGQ8nZ+cnkdxYtq2oulhmHD+n2SQEKKqqrIsP6/7/oeML3blQQCw3/v8nwRGAgIOAGOgqGia50mWpSVN8gIglbJkcTnmfKgZlm6aXr1xcnLCBYQAnZ6fr4Nwf39ft8wnT54grG5vb3uOwzkvy3I+n29tbX3rW986Pz175ZVX3vn1r8Mw3N7edl13Pp06jsMYEwiUZSm1eZkQOzs7X/nqmwCAbq8/ncyyLBvzsW5YOhfzxbS/0WGikm9924RMCJZmWVFYhgExwZgpmq4SQhmrKlYxUFVVu9NpdzbOLgauWyeq+fjJs0ajgYmGCKWUR0mqaFqZ806n02l3D58ddzc2ms0m51xRFN/3r1670mw2l8vlfD5/++2379+/b5pGnuftdvsv//In//bf/ttf/PKdH//0p2+89bVut/vs2bMsLba2+yyMdMtUCFJ0ZR1F48nUtkwVSRHw3xm6wBeJZP3FTh4Z6J8qoBACAAEHgDJeUJoXRZrncVYmWaHqxsam3elvqaoKIZrMZsPLcRylXq0+HA4ryra3t0tWsSTZ2dnZ2t47Pj6ue56iKM+ePbt161aRZZLiWZblaDRqNputVksI4bqupquOa2EMARCWbdTqLkLIca2r1/bDYO267tnJSa1WWy5WnU5HV1WFaIqmp2lSlCVhACMFYp7GcRCG3XYbZKVgDBFiGrpXUzFSCkoFwByCioPZbLVYBo12y63VBURhnAjG5CCoUfPGUeg6jqIolmWZpgkh1HW9Xq8zxgAAsk/75S9/6Qf+48ePazVPXoIQ4Id//+M333yL0sqxvdUyuH3n3uDicnAxVFSMsIo1iBDMChpHCUGYGMp/ljzgH5m7PMfxPCTPPw4BgCw7AACBoJD/hRBiVG+0JvNgODhb+r6q6K7rAgAEBPdffmU8nXa6G9s72rPjozRN7927xxgLgqDZbAZBMB6PX3rppSiKAOfPnj179eVXfv3rX1NKb926lSRJGIbbm5tZlu3sbs8XK8mGdl2Xcz4ajeSMNYoihJDrulKfTTDW7/cZKwEAAiIAQEErWFUFrTjnBa0YqzgXqqpkqoYQFBBVXBimaZjWeDKllaCM+0F4586dMAxPj491Q8ME5lnp7dROjg51Qnzfr9VqZVnKTSHp6b1arRhj29vbjuMUZfbs2TPTNO7evZskiRDgcjjBivqNr3/zo49/a1vO0eEx53x7e3u5mFNWQVYRTDAiimYoqoYVhTKGAPr9hHlxkuc5PPN8MuARQM7sAYJIIVhRFF1TNM1fhxCRre2923fudbq9NMtXflBSdvDsqFFvhmH4/ocfSCeF2XQBAf7Zz352cXGBMa7VarPZ7P333/+jP/ojOQ99+vSpZVny8JDnueM4QRA0vFpFC8+xGS3LPOMVPT87BYIDzte+32m1AOeNWq3ueQQiTdOyNGcCKKqOFbVioqwYRMS0HUxUgDBEhAMYJ1kYJ1le5lnx63fePTw6/dFP337nNx8omuYH6/fe/00YxQBhhaiCw89ONXmel2W5XC4nk4nneRK8TtN0sVgoirJYLL7xjW84jtNsNjc3N+WRLwhD2/XGk9nlcHTj+k0IUJxk5xeX/noNMSJYUYgGMeEAcc6lgr40PuL8d6iNNOH7vO7+HzKez4vkv/figxBACAWEAEIBsGZYrOJRnERhnKZpmudlVUmTwPfeey8t8t3dXWkjhxA6OTkhhEgw9+zs7KOPPvrOd77zzjvvfOtb3/rggw+k6+27777r+z5CiHNeFEWchEWRCcDiOF6tVuv1uizLRqMhHy/P89brta7rUtBwtVgUlAkOEEKS4QYExBhrqh6GYRKnnHMgYFmWggPLsrx6s7+19ez4SAAEEOQCbG5uAoFqXqPRaJi2jTFOs4wxpmkaZcxxHCFEnudVVXmet1qtoijyfX8ymRwfHwMA7t+/3+12FUXRNE0Ice3aNYRQt9u9uLiAGGNFMU2z2+2en10AAVVV1QwDY5znuR+EYZyWZckZkIn0e7/wf6k8X/BACEAIGAAVE5TSoigk1gQBEgCVlBVlhYnaqDc9tyYgarRbrW7HdV3Lsq7sXxMcPnz4ECH05ptvXl5eZlnGOfd9//r166vVKsuyH//4x0EQPHr06OnTp6PRKI5jRVGkew9GYB34EHJFQVkWO5YBeKVg5NoWoyVBEDAer0PAeRRFhJBK8JyWRUU5BACjSvAkz/xwHWcp5axkVRCFQRQWFQUQmrYbrCPLshv15mg4mcwWumUWFWWfVgBKKedcKrnJjTqM8cXFheu6EmRTVfXk5GQ8Hj969EjqJaxWq+Vy+ejRI9/3d3f24ygpKfuHH/241+sfn57XGq3d3d08z5M4i6I4idOipIwxSmma5zJzZHz2y39Bkud5OfNAycORnwECQEAIBUAAcMZYycqszJIsy2gYMcNwDb0dBEEcxwQT3dAEByfnZ77v67o+Gs+iKKrX67du39nc7D95/EAhpNNoHx2d/N/+x//xL/7sz+/cuXN2fHp0dFyWZeCHpqVPpjNMFNNxSRStg8gwteVyqel6s9EeDoeqbo4mM01RISarxcKt1Sljg9OTmtcARCGqSvO8KEpVBRirCKGyLOI4NQwbQqiqRlYW08WKUuoGIURkuQrv3L0XhGGr1eGcHx8fb2xsVFW5Wq0MXTN0YqqKQJComr9ex0k+nc8hhOPx5M6dO0AgVont7f5ivry4uDANazScfPn1r7aanYvBWX9j+/j0LIqr6zdujUYjw7Z+++DBv/7X//rP/+LPdre2MQJZmtAydQxto9cxLIeoakmrTxdBXsSRz/NQeT7d3+ECcgE5hAxABgRDEGAIMIRFWuRhWqUUVFxFIA2Xi8kgjwIoKCuLKPCXi9liOkvTVADseC4XACJcCfgf/+oHeZr0uy0IeLfdVBCJgsgx3OU8qEqAkG7aje7G7s7Vm7Vuf7T0Hz47vhhNAdAYI9NpIARGSMVYI0RnAFUCQlUfzhaj+dKuNzXbsWqNeRDNgshutAVWw7Q4Oj5P0jKKc0U110leArwI4pSBdU6PhpOHhycZY0lBW50exFgzjFdeecVxrNFwkCaxbmimaZqOzTg/Pb/Y3N07PD27ceulglbzxWq2WGqGuQrWk+nyS69+pdvbOjkdVBU6PR12u9sIGWdnI4Q0RTWfHBwqmhGuY1UjF2cn/4c//e6DBx9yVtmW3qzXTdPEGBNFQVjjAiZZihBSVVWef+QdkVTa5z6+2JXnn+IWfFJ9EEQcAFaxPEmrssQY25bjYGUynQtaVGWOEDJ0GxJMkhwk8d7eHoegpHy2mAuIh+MpB4BgRVGURw8e1muN3d29D97/zTe+9o2Lswuv1jAM17AtDoDjOaZlGaYNFZVDBAQsS+q6Huei2e6sozgvaVkxRVE451lRFrQCADABBIIQYQagYVorP6BFyavKrdUhhBCTglZFXiJMICYCoApAjnCz22MlAxALgIhCVEXRFEywlee4LPKqqsoSsqoUHJaUlrRKs3w+W1imnZrZeDTpb2wG/noynhKsGLpZ5OWDjx9+97vfvbi4sAynv4Em89nFYAgJ9up1oqqT4agoc8c2v/e97w3OTsqSm7pue7aqqmEYlWVZd4w/6P3+31l88SuP+M/aayg+JYgKIbK0SNO8oJQQYtt2vV6/evXq9vZ2s9m0bVu64gRBMJlMwjBkjKVpWpZlrVazbbvZbH7ta1/r9/sVZ3Ec/6vv/Mk7770LETJt68GDB67rdjqdza2+ZVkYY1VVAQBVVfX6fYCQgPD49DTJMoixgNC07TCOkywrq4oDADGGGAOEIISqqmKMp+MJLYqqqgxNY5Q2ajXAOWOMIAyFAABomqaqaqfTUVWVEIIR0BRFV1VN0xzHkcKItm0DACrOVUPXTVtRFITQeDy2bduyrMFgsLGxoev6dDodDoc3b96EEHa73cPDw6IoKKWSRfHqq692Oh1K6SffCOPpdNrtdqWGiRQ0lZhBlmUvyNnmn4svduX5NOQGwn9Cc+MAMCAqzuSMBUAsIGRChHGUl+UnlEeoAIw8zwMIZhlFCiGE6qqGABeGkEftOMp3d/b2dvbee//9b3/724eHh55Xo4w5Nc9yHEzQcrUqysxybUZpVVUZ44IxOVGRyjinp6dlWSZJIhMAY6woimmaCKGqqjBEeZHTolBclxBC84KVtNPfXK1Wpq5jCOMwApzXXS8tcpUQy7I0XQUAEEIA4EIIRVGrqpKUnPFwpet6WZamabJKQAjXcbSpbBNCkjzjnNdbzdFolOTZwcHBnfv3xuMxJPj2zVs//fnblm5QDo7Ph6Zj1+u1ZrOZrP2izI+Pj9ud1t7eXlXR1WKRJImlqYZhaJr6gkDS/1w81xcvIEAIEYIVAgDIssz3/cViUZal1PUDAAghDMNoNpv1eh0hpGmapml5njPGsix78OBBmmS/+MUvvv2d7/zwhz+8e/fuwl91NzZ002y327quQwjTNM2yDAoBONcUImE9uZ4wn89VVZXuA1VVYYxlQWs0GqZpAgDyPI/DUIGw7nlVUXJa0bLUNQ1BqCpKw6sxSleLBa+qRq1Wd708TV3bNjQNCoHhJ7vZAIAkSeS3kCV0PJkVlC4DvywqADClvOJA162Ly1G73ev0+qbpTOfLKEpV3TRN53wwfOONrw2GY8nIllyKx48fCyHu3Llj2/bh4SEhpNVqtdttuQVoWZbjOP9Seb7A8Ttum4AA/q74cIAEgBWrBAcCQgAxZUWcZVlWWraLVQVCGKfpOvSXvp9mBeccITWNYiabQCGQAJxWcRT5s/F3vv2vfvqTtwVEXCBF0z5++NCpeQpRgzDIi6KkuaopqqpACHRNK7Kiqiq5ajocDi3LsizLMAw5ezEMgxAiz9aU0izL4jC0ez1T06eTCWNsq983NC0MAiGEY9tJksZhWFNVlRDV82aLhW3qEMK0KjHGnHP+iSB9VRSFYRgyb7Msy9K8pAwpBAFRliUXwrKsweXl66+/3mq3KaWGYUAIj46OdnZ2lstlluff+va3/+5Hf+82mls723meRVF0eXmpakqr1er2OtPp1HUdz3GieI04wxgTQoSgL7J22xc7eQAAAED0n+Ckv6ulRUWzsihoWTJWcU6rqqhoHoWIENkySZiIVpxSqus6ISROcwFhs9mczWZZmrZarTI1Xn399T/7sz//H/6n/+l/+V/+rCgrr1ZfraOtra3ValUURVEUhq5BAPIsK4pisVhgjBuNhhQ5oIxZjuP7vud5qq4DhApK5VQ+zfOyLHVdT6N4OplQSpfzecurYQA1TZNbD3EUiYpBIdI46W708jw3dFUIkWdC1xSMAITQcRzZqqVpiog6X/oAkVUQOo6DAC/ysuICYiIAiJK04gIgrJuqoum/+c1vMMa/ffBQCAEQNm3HNKzBYCAQVBTieZ6lNRRFUQkJw5BA4bqOaZolzcs0kcAaQuhFdhl5DpIHfPLy+wRmkwMfyIWoKM+LKi9oVQHGhYAYQBzFCZAUEkIgJqZpMg7k0+w4TllxAEDDa8rT8OuvvnJ2esw52Nnd39jc8oOQC5AW1eb29jqOpot5VZVlkXFhMVrEYRCHgWkZRV5ijJMkwRhLOQ7GmGEYv8+aEUKUZckYa7fbx88Onz59evPmzTSK1+t1nqa7u7t+kjDGiizDGCMAkiTRFLVRq0kqg1QYhRDKVtAwjMl4JDu38Xgs+zfDMDjnEqIghCRZBiFM87woCstxjg4Otnd3Hz98ePOll7Ik2d7dxRDee/llDkGz2awqqihKsJhNZ5O7t2/3NzdX8ynnXPaonFL5M2CMAag+t9v+ecdzcuZB4tMr+WTWA7gQSZaFcZSVhUS3wji+GF7GcRwliarrUuQWE9Jut7vdbq/XY4w16/Vmszkajeqed3V//+jo5Jt/9Me/+PkvG43Gr37164yWFIhmu62b5uVotLm9rapqVVVpmnLOdU15+uTRxx9/vFgtg3CdFfl8uag4S/MsK/I0z5IsLWgpIOBA5GXBBNcMg1I6n88bjcbZ2RlCyLZtznkQBKZpKoriuq5hGAghOdKFEEbhermYqwrBCDq2tVzMOatMQ6/VG8uVH0bxlavXbMetN5qT6SyKoqwsIMGdXs9r1LOiePLswLCsX7/3bkGp5TpbOzunF+erIGBACAi7/Y3Ly8vBYJBlmTyedTodXdeHw6FhGJLdc+XKlVarpapqEATL5RL8Hp/gM/zgBbHu+YJXHvF7XYM8rnxaeSCEiqIihJIwKqoYYM2t1d1Gcx2EEhVYLpcXFyNVVZvNNkIIIeT7vqYZrutubGykaZqmqTwWE1V1vPp4MnW8WllVcZoarqM7dpzF6zhECMZJ+ODjj2rOm5zzzc3NKE7Oz89d1202m5K240okjdI4juVSgCSACc6n02kURaqiIISiLLq4uCiKAhGiaVoQBJphbG5uEkNPsqygpaNr3W53MBgURSHx4jAMDw4OZrNZxXgYhoqihGEo19E45wiTJAxPTk5u3LgxmUx6m33f99Xt7dFoxBgbjIZXr14lhPT6/fl8fuXKlTzPX3nllfF4vFwuoyja394sy1L+qPKIVavVfN/f6PWGw2G9Xudl+jnd+P9dxBc8ef5x6RSfCvEhYDkO8tfrKJov1wxi26u5rud4rmyfBASe57mui7GyXC6fPPmAENLr9Z8+fToezizLqtfr165eOzm7UBRto9c/vxzuXbkynS+DIEzTHGGs6joAIIhCnmeGrjYbjcnoMkrLWrPVbLUcx1E1LQhDJkSn0ymrqijLoig+7XZAQSktiqXvU850rKuqmpflcDJmjLW6nawsCs7anY5q6FBRYFksVitIULdVP6NFlmWC0Wgd5Gn85MmSMdbb6BuGoaj6arWqmIjiVFGUignG2Hy+UtXBaDRCSPH9UFUNQjTb1ouiiOPsxo2X0jQ1DCOKUkrp9etX8jy/uAg1TZOLtEEQQAQqqdhIaZrFdcfO8xwAQUAlbOszbo5E5+WHP+Aj8LnFc9G2/VN3Kkny2Wy2XKziNMlpmZc0TbMgDHVdF0KEYRhFkYTF5OeNjQ1FUdI0DcOw1Wrt7Ox0u91Go/HgwYN2t4sVUlFm6JZhmm69pugaxJiyKi3yqiohAoLRZr2WpWmj0bBtOwiC4XBICNnZ2TFNc7FYSHRBVVUJuEmoLU1TiHG9XlcNXVL5IcZEVZkQqq6nWRZnaZrnWZETVQ3jWP5PyiKL1mvJ2pZmIb7vG4Zx7do1wzDkEStMYoBIkmdxmgkEz8/PVUMfDAYAo6IoOhs9y7I005hOp0meEUK6/Q05aV2tVrVaDWPsed5oNMIYS7NHCGG73fZ9X1XVi4sLQsjl5WWavtCV57lIHkkr+L0UEgBYlu44jteo17yGZVmarhNVJao+WyzCOC6rKiuKwWj4zvvvvfeb3wyGw82NDVoUrKS3rt/48muvqYTwqtI0DQL00q3bw8tREIWT+Qwg1Gy3AUJJnp2dnS2XS8dxXNddLZfL+XxnZ0eORDudTqvVyvP84uJiuVwqipJlGQBA0zQ5GpKpq+q6qmtuoyEgjLMUKaTRbDZbLQBhrV43HVvmEkDIcpxK8OF4HCeRpilcsDhay7W2OI4Xi8V8PpddYqvVSrIiSwuClYryrCgFQFlRerUGUTXXqwdhZJh2xYVuWIZlv/vebxRNP7+4XPrBwl/N5nPOuWmacRxPp1NJuZD2qYqiSIZBHMdSeVQuMvx+5fnPPjzf8Zwkz2fxu00eAQDEjLFVEJwPBqenp+PxOAiCWq0mhLi8vHz48OHBwcFkMoEQ7uzsfPzxx77vS+ePKIrCMKzX6wShTqslvQ01TWOcK7pWcX5ydnZ0dDRfLuXBI1qvsywdDi+vXdk3Lf3s7Oz09NSyLFl2VqvV4eGhYRjyUUuSxPf9JEkURZF7Poqm5mWZl6Wq616j7tZrkOBKcIhxQamqa2VVxVm6jqLRaJSmqec4qqpmWZanqcQq1uv1kydPfN9fr9cAI/lFyQPq9/uqqiqatlwuHc8jhJRV1Wq1KGP7+/vNdtswjKXvr9fr49PTxWKxDqLVarW7u0sIkYInnU4ny7LpdCp1Ti4uLjjnMkt/X7ftBUmY348vfPL8jsom41MIgUOAEBJCEEIc22u0W+1ut93t/ujHPx6Ox169fufeva9+9atXr17N8/zRo0dSygwAEMcxwXhvd/fe3buz2cxxnOl0mmRZrdGwLAsjEkXRKvDXUQQAMAwjDMMoWpumuZzPr1275jiObppurYYIuRyNRpOJYVl7V67opimTIS/LinOIMSIEEZLmuRACIGi7bqvVMm3bsCzbdSljQogkSyHG6/VaCuFCjFerFQAA8KqqSkxQnue2beu6/tnGKC0ZEFDVjDzPMcbNZlPCHmEYyslsHMf9fl8I6TmH9vb2kiRpt9ue57Xb7dVqNZlMTNOs1+udTsc0Tdu2pU73xcVFnufj8TjLMokHSn7DC1t5vvCAwT8XnIPVajUajabT6XqdVAKuw/T8fFAU1HVd07RXq+Dy8jLwQ86563gFpe12d2dnxzJtmtOnT59u9PuL1cp07OFwWDEqhCgLKhhnlei0e5qinp0eFxXVFEM3jCwKLiazr3zjm+ov3kcqdF1XHribzSaEMAjWnY5RccG4gJjopiWEEBDFaUYZrwBUVN20HMswiKYDAGSJKIoi8X2sqEmWL1Z+vdnodTqzRYAgTvLKZZDoBkuKWr1BuQj8dZTlm1s7BaVYUVRDT5LEMPVgHduO6aqaRCkghLPp+OaNa7dfuskZ7XZal5eXru0ul8tarRbHcRyviyKdjEYY49PTU9d1ERSO42RJWtEcIKwQLS2YaSGIFMaBeIFNRr7glQd+IlTwiVwBAAB+MjKtiopSCgHSFQ1yEK3D0A+KNMcAzcazs+PTKAhfeumlK1eubO/sXbtxc/fKfrPdHlyOHj5+yjH6znf/lEK0TpMbN64t/Vm33a7KEgJQZmWeZMvZajpZVRSvV6nltSpomI2NZcpqna3d/Su3btzo9zdN0yJEybKcA7i3f61iwHZrecEQ1hrNbklFs9kPw8KttyHR00qYtabhNmZ+ZNVapcDrtASK4bV7RLMazS5CahoXvp+UgkQVcLubQcFKoLitjafH50A1kGFeTmYffPzg9t17T54dEEWxXOfg6Li/vVNrdFTdNG0HITSbjh3LoEVG88TSFc+xdrb6hqbWPEeOX9vt9uZGbzaZbPX7CBFCVK/WKPOKMbBepx9//GSxigHS40KMF+Hu/vV6s62q6u/NTIEQ4gUhjD4vFykRA/i7uY+mEZUomqa5rtvtdjudjms5GOONTne7v1UUheM4s+mi1WwnSToejx8+ePzDH/4wTOIvvfaaouq1hvvk4Gm9Xl8GfhRFlJZyFlQURRTFSZwhQBAk2DCRYmDF0J2abnnrrNjY3JS8aYSQZOioig4AsBx3tfQtyy1LBgA2DDvLCwCRYdhVJTy3XpaMCUg0o6w4VnUOUFFxVomiqCzTMXTLtT1NM9dxkuZVXvKsYJRBSBTdshVF29u7YhjWyveLsrQdp9frebUaxvj49Dwt8uVixRjTNL3ZbHLG2q1muF6VRSo4YxWllCKEXNtuNpt3br1kaNrOzs5isZCw4dHRyXzpl2XZane2tncUVYuTlFJOKZ/OV5/rXf+c43lJnn8UjIGqqjjnco9fHtazLIvS5P/+//x/rJaBZTr37728WCyazWaapnI/59atWxeDs5W/HI2nnuNKgplEt8uyTLNkvV5nWabpSr1e6/V6165dazabcu8FQij3ZIiqSjDKchzbdXVdB59O3+UCDwOCAYEIoZRqqoogbDUaEAAFY01VEQAEY01RWFUBzos8b9brruM0ajXLNIs8rygVnHPGPiFf1+u6pmmq6jqOaRi6phV5nmeZoeu9Xm+xWFRVlSQJ5xxj7LqulBSVwIlUOyCEBEGwWq0ghJP5bB3Gkrp6584dOduRpiNBEAAAbNt2HMcwDARBmb/QUPVze+YBABBCVFWFMC+KIk3ToiikWsX3vve987PBYDAoC+o4zkcfP0AIffUrb67X6w8++ODq1au0ZB988IGuGffu3cuyhAuhKkTThMGBoSWcGbZtF0XhOqbnuRiBJFw5tq2rShiGL9+7e3BwoOs6Y8w0zaqqKsopZ2EQ1Ov1KEpt214Gfp7nmqYVRZFiZOq6oiiOZVmWlWWZpmlFlpmmKZKEMcYodV3XNk15QJf0CPlwSzJrvV6XXZPneQghqVqa57miKJ1OByOfMSY39iilBAM5Zbpx48ZsNmOMNRoNztHF8HKUj7NsM14HlqE9fPDIce16vV6WpeM4GOMiS0ajEYRwe3sbY8wFk2Siz/smf57x3FYeQoDnefV6/TPGMQDAcZw0K3/8k7eDdfT6l7/aaLWYENevX3/zzTeHw+GzZ89MTX/3V7/+6pdfGw7Obctwbfvx48dBEEiKTbfVbtTrhqnrqqJghCFQMCaEbG1tXbt2bXt7mxCiKEq9XkeEEFWVS5ccAs55FEUAQqmxOJ/PpYoahHA5n9uGmSdpzXF1RS2z3NKNNIoNVTNUDQMIudAV1VA1BWFFUVqtlu1YpmXYjmU7FoDCcW1NV5utBlGw49pplpiW0WjWiYLjOG40Guv12pMgdVkWRdFoNKQwndTKqqrKMIxarQYAmE6nhml6jbpbq9mOdzEYNprtwWAwGo0sy2KMJXG0mM+mk3G0DhWMDeNf1rCfx2AMCCFkNyWlp2Tf4vu+59b++I//WG4TJEliGMZPfvKTJEk6nc7u7u7m5uZ4PH755ZefPXs6nY5lASGamiVJEq+rshCMQsG3+hu1uqdghATY2tzs9/uGYRQ5XSyW7XYbACBHigWllFJaVQIA3/dt216tA8aYbdsXFxcIoeVyiTEOggBjnKapXJT4bCgpf2a5tAMhdCyj1agriqIoilyurqpK13XZGcZx7DjO2dlZEASSOTGfT7M8kYY8sm8khBiGIYS4uLiQ/L3pdFpV1e7u7v7+vhzmDi/H3e6GruvyJ3z06NHDhw8fP36c57nruqqqMsYs27Qdi5YFeoE9fZ/bti1NMzkdRwiZpmlZFqVCcIggfuvr3/jlr9/Rdb3T6eQl/ekPfvD9739fVfTT01PPtb/y5dcIhpeD8/lsAiE0TRNjlRDi+35eUgBww3MVTXdd161swXmSJI7jSHEPyzZPzs6uXrsyns50XY/TFABQlhWAkBDCgBiMhmEY7u7uTmYzJkQURUVRlHmep2mWJIvFQiWEFoVtmlmSaJpWlaVUNdBVFULoum5aZHmRCiFM0zQ0hRaZbepIVyEUCPC9nS1p4mCaJgI1AMB4PKacFUVhGgoCQNO0+Xy+s7MNIWSMFQUFABCSIYWoqlqv1ze63dFoKM0npcDDn/7pn06n08cPP7Ztu91qNptN17FqrmuoGmMvhErOPxfPbeWRDEWMseM43W53Y2OjXq+ruo5V5YMPPnBdN03T4XCIEPr+978vhHjvvfdqtdpgMLh+/fr7778v3XwrWkwmE8msQRjatrW12buyv7O/t5UlsaoS13Ok1EFRFISQfr8/nU4ty+KcA4TkAnZRlowxDkG9Xn/06BFl7NqNGwcHB91ud75cQgizLJOHcrm2LZ1zkiSRW9ayEElMwrZtKESe53meS2iYUgohVBRle3u7Vqv1+33JoPM8T8qYLJdLVVUlC1vGxcXFer3e3d2VlU0ezwaDwXw+103z4PBwPJ788le/HgwGYZz+1V/91ZUrV6Io+tKXvmSaZpZlCAqEUJEleZFK2ZMXNp7b5JGbNnK4nqYppVS2HBDiLC9drw4g9moNTNTReHZ8dPrS7Ztrf2kZ2ujywtAUz7H2d7ePjo4ghLVm4/j4eGtry3Usy9DzNMEQ6BqxDO3hxx8pGDUajTzPXc8rKaWMHZ+e7l25cnZ2RgipNxtyNQ1CeHp6+tqXv6yq6o9//GO3Vnt88BQh1Ol0jk5OBITrKEKELH3fcpyCUg7A46dPK87DODZtmzI2GA6lVkHd825ev15z3TgMd7a2kigSjNU9L4kiXlU7W1uWYQSrFRTi1vUbtVpN07QkSaIo0jRNAhJhGE6nU03T+v3+w4cPsyxLkmSxWBweHvY3Ng3Tth3PcT1VVW/dujWZTBzHIYRcvXq1VqslSWLqarNR01Rimfonuw8IgU/NeWS3/Hnf/z9EPLdtGyGoLMusypnAlmWVXJQlT9OUMdbudt99992qqs7PzxuNxmQ0fu211xbT2cnJyd7OTrPZvHbt2mQyef2114QQWDeiKDJNM0kShNBvP/5oZ3NL15Q7t28eHp3UPbe30Xn3vXd2d/bq9XrF6K1btx48/Pjb3/rO2cX5XdeR3h5ZUaA05QAMh0Pbth8+fowQ4lzMJ1O02ReMtVw3yTPXdeMszfN8GfhpFCOFNBoN3TJ93w+iUPaQXs3N8kQyj6QCCQAgSRJJRZOEhuVy2Wq13n//fcv2EELD4fDlO3fTNN3odoeXY3k8i6MgiiLTcr/zne9MJgvHcR49fJxkGaXVYjpDCJVluQ5WQHBd19MkIQgQjGzLqHtOo+7Jg1OWZY7z3L5//3/Gc3vlZVnleU4plebPn6m09fpbSZZnedlqd9dBCAS8e/eu1EOzLKvZaqz8ZeCvAn9V91wIYZIkRNG2trY452GwisMAQj4dD48PD4LFfHt7u9FoEEKEENPJ/PT8YraYF2U5HI+++tWvAgB+/e67EGM5UUmSJMuyJMs0TauqandvTwixXK0gxiWriKoihViOs1oHlLHhZDxfLifzWVYUC3+FCEEKCcJQ1UiZZ2t/FQa+SrBjmZ5jawr59S9/cXV/79//xZ8bmtqoecv57Ob1awqBkiWUJMnGxsZyuZRNmqqqjUZjMplMp9N33nnn7OwsTdM33njjS196dWd7b3N713K8PM/TNA2CIIqiZrMpkQzP86SGm2MZCPAsiT7v+/x5xnObPNKeQNLmpeUBIURT9WajdXZ6sbGxKWXOHzx4sLu7e3R0VJaltKx5//33j46ObMdah8FoPNRUQ84QMYCcsSv7e4pCLgcXx0eHnU7TdazT46Nr+1dm8/lkMiGEPHz4sNPpDIfDGzduDIZD3/eDIMCqUlBaluXS94MgsG37xo0b3W537+oVw7a6vV6UprV6feH7iqo+efYszbIgisIomi4WJaU5pbbjmI6T0zIMQ2m+sFqt5NtBURQpULher2ezmdwn1TRttVrt7OzYtt3r9TjnrutKwH25XMojkOzlJNM0yzI5MsrL0na8eq0BsWJaTqfba3V6N27cME3TNLSaazfqnm3qqqYQjBgt4QssAPLcJo/U2ZDTQ/l4Sa22NE3/+NvfXqxW9195VTOM73//+0EQbG5uDgYDubjy6MHDes3d3931F8s0ThqNxnK5PD8/RwhtbW21m02FQAS5ZWp7e7tVUTJKe72eRKTDdYwQkvzlt99+O8/zvb296WIuLUw0w4jjOIoiAcGt2y+FYbixsdHudg3bYkBkZbEM/NlycXx2uloHtuc2O22n5tmeixRCOcOqomoapSWAQtWUitEsT/1gVZQ5gELTVYQhJohWpe1YCEMBeJ5nUpjO87zxeHzjxg0AgBCCUjqdTg3DmM1m29vbnHPP8w4PD4UQv/3o4/lqiQiRvzpN09br9WAwaLfbruuapimhasE4QegFYU//c/HcJo98RKQ1DcZY0syIpg4n47Oz842NDc55rdYYjsdnZ2d///d/L9UJx8NRFIfdbpdzPl9MAQDvv/9+WZa3rt80Ld1z7DSLVYI1hVzbv1LkyWQybDQa48lQCCEQPDg4EEKcn5+PRqPLy8uvf/3rFxcXVVVRSk3b1nX9/v37YRheuXJlvV4LIfKiSLJsPJ9jRTkfDhEheVU1223dtrd3d91Go+I8yjKiqqsw9Nfr+WoZx7HkGSCE5AhL6o/O53MAgKyxEprf3NycTqez2cwwDAmZhGFo27aUF+Wc7+7udjqdjz/++PHjx9JEqKCUMSY4VFWVMlZVXJI+4zju9Xqu6+q6DqEoi6IsSwH473tavYDx3CbPZ2UHgE9IboqiOI7T6/WwonQ3+u12+/Ly8ujo6MGDB0+fPpWTk4cPH169enW5XEZrf3B+Lv+B67qe5xVFcXl5mee5EKJW9/qbG6PRKEmS+WL27NmzIAgMw6g3m7PFIs7Sw+PjRqtlmmae5wCAPM+jKFJVdXd/r9ff0DTt/PycAzCZTLIiBwg2Wi2IkW6au/t7L9250+52VF3nQERJsvRXiJBV4IdxXFVVlmVFmnFaVUWJBGAlZSUts/zG1WtPHj565d79MsuHF4Ob167/9oMPy7KM41hC1YSQ9957L8syaTasaZplWffv35f7fHJU+v777xuGkee5hLA9z9ve3r5169a9e/c8z5NlByFEKS3LUr6bPu/7/HnGFz55IBQQfrKUAH7veiQ4ZpomIaQssixJMIatmudZ5l6/q0B+fnrsWIapqfV6/b//v/7bhw8fEgU/fXbw1a9+dTgeE1UfzRaPHz9+7ZX7jqm+/faPZ+PR2fmJSnCWZbs7e5K0Ijcur125oqoEAb7RawvGNKIwWqZx/Nc/+MG/+Tf/pszyoiiePn6s6/rF2flbb7313nvvcSZGo9Fyuey02rdv3Nzd3t7f3sEQXtvbr7kuFiAMAgWimuvqRMEQhivf0LRr165phgkJrrjIyiLJs2XgDyfjk5MT13XzPL8cDEzDKPLc9xcKIY6h2zqpsni73/HnM38+ffLoga7rSZIE6/jR44Pzi8F/8Sff1S0TQTydz23bNi1DMKpqSqvRcF2bEFyVeZqmuqYSQhSVYIyF4BWjUqb0c7z1n3t80ZNHAMgBL4CoeFUUWSot/ZIk0y2TA7GYzmbTCeAVBsyfTyaXJ5jlkKagTJqOjnjhmKpjqr/8+duNZv3WrVvXb958+xe/DuOMQbIKk//6//R/vnFtZzI4AlUSBrOd/oY8SgX++jcffrTR37YdZ73yR5cDzzI4LWfDizde+9K13Z08iXvtFqvoerV0TD2YLxzLGg+HnVbrb/7qr+u1hmlYnWZ7e2vL1XRAC8QoTeNvff2tcDk3Fdxt1C5PjzUEOnVvo9WosgTQwjN1XlIBITEtTpRCgArAg+OTJM37W9t5nreaTV6VjBamSganJ3dvXCOstAk3RIFpEq+mrqmeHR8BzsIwDNahH0bj+fLjRwff+zf/FUdYNa3+1lYYBaoKyyJhVa4qqNms7V/ZIwoMo7XjWlI+zrKsT8oO/ETvCgAgfekk/fzzfir+QPFFTx4AgACAAylJ/an6nmzY5Axe1Yhj261GbbPf293e4jQnoOr3Wq/cv7210UujMImiRq129+7d+XyeFWUluKIZaV6qpu016ienx7TM261GvV5XVLKzs/PRh789vTjf3dnf3NzM0hRCmMYRAqIqkqu7Oy/dvD6bjL7zzW8UWQoqOjg//9pbb5RF5trWSzdvRqHf63Q815WMHiSAaRieaVmq1q7VszAqk/Ti+OSDd961VA1zEcwXlqrpmGx1ey2vFqyWSZbO5osgXBuGARCShPEkjT3XHQ7OZ5PJcjFzLHM2nsxn09Vqfm136+LkQEEiCf1HD35blbmcNbFKGIY1m85H08nR8Wmt0aiYOD8/v3b9que5hq5u72zt7+/wikZr33UsRVEIwYamEAVzwaqqyvNUctU/W8aWRNjfFzZ4vuM5SB4IAAKfmshKlzjKGOdcKktJgCtJEkmW6fV63W5Xruh0Op0333zza1/72vXr1zVNm06n8pQiJaQJIR9++KHn1rK8tGzXdjw/CH/wH/9qZ2fn4uICQnh+fv7w4YN63TUMtcjSOFzfvXNzuZhd2d/d3dkKg9Xd27c6rWZVVW+99RbBsO65ciLUaTV9f2nbptSAp5QmSQIAGI/HEm4+OTlhjDHGwjAMgmCxWEgSdJIkmxt9WhZxFGIIEBBVWdQ8p9dpzeYTVVPOzk+v7O1cXJzu7Gw+e/p4cHaeJMl8thgOh41GYzQaZVm2XC6loAfnfDqdjsfjhw8fqqoqAIuiaDVfqITISRQAQJKDwKcioLquS1IP41Ra9HyGakrRNpk/n+vz8IeL5yB5pOE1Agh/qrgHKso01VCIihCCAAMIAUL40+mH7D0AABsbG9evX3ddV25Nyn0v3/dns5llWZ1OByKFC3j9+kt5XmmG+Zf//j+kRS5ZagCANI4dy+p02rqqMFYURfLk8aNHDz++dnV/Pps06t5mv7ez1f/ZT378ysv3Ou1mHK2X8xktszyLVYJ1VSEYMk7Pz88Hg8FkMlksFkEQWJbVaDQajYbULi2KYnt7e3t7W9IjWs064AxUlLPS0jTBaKtRs0xjPLzc6vccy1AV8sEHH9Q9tyjzosx//vOfa4bx+PHjXn+j3e1mWea67mQyjZNQEsYt3cjTNM/zmutdu341jmNFJaqqAl4xVhVllmYJo5XglBYFIYQgKNNJQm2fWWH/ftn/vB6EP3A8F8kDAAAQQAQhFEJIo+bBYDAcDsezqVRYLgpaUca5kGstGONWqyVZkrLgbG5uyrHGq6++2u/3GWOj0Wi1Wp1cXGaUbWzv/u3f/UgzrC+//tXLwWh/7+rKX2i6cvfe7SReF1lyfX/31ft3f/PuL5uee3ZynMbR1St7q+V8PLpMovV8Onn53l1a5tPJCEPgLxcbvTYtsySNwjA8PT9fBcEqCASEUZI4ntfp9SDGWVFYjjMYDtvdrqJpTw4OxuPxajFnVQF4xSuqKVgjGAJxOTgr8zRc+7fvvPSjf/j7MPB/9pMfd1rNZqtxdHQEAMyy/OT49OrV64yJ/b0rEMJGo4EQ6G9ubG1v9jc3kjR2XPvGtWuvv/56o9EwVK3f78vfSZqmEELpzyWpEmVZEoh0TbEtU1YbGQCAz+y4P+/n4Q8Rz03yAACQgAgAyBmoqsrzvJpXr9eaXq3ueHXdND/zCZS2AmmaStFAx3FardZ0OnUcZ2NjY29vT4q+T6fTR48eEUV9++1fHRwcDwaXX/+jb84Wi3v37imKkuf5fD6PgvXJ0SGtSk3Dm5tdwav+Rvfo8KBecwFndc+dTccv378bh0GrUQOc7e/trINVp908Pz2BgiMBfN+Xgxdd103TlH4NTBayJCmK4vDw8MmTJ+++++7FxYWqkTgMtnpdzmgaRov5rN2qEwz85eJycP7hRx9gBKfjsa4qDz94zw+WnHPH82bzebvT+cnPfqZpmqrrbr0mObJxGBKEdF1v1up5mjJKKaUbvU6j0TAtHUGoq+rO5tbmxgatCsaqIksg4BWlZZ5CBFRVtW1b4gSf3QOZXVKP+7mP5yJ5BJQXAiFkQlScUc6yosjLUu5OSmXayWRycXk5GAzkdEIec+XzOhgM5FpOVVUHBwdSPXBzc/PqtesQK1lR/s//8797661vLBZ+SautnZ3BYNDtdllJjw4PJuOhoaur5XxwcWZbxnrtYygIAmkSSS3sjV5nPptcXFxgjLMkjqP19lZ/tZyXRaaqJIqidq/b7LRtz60E10wjp2WcpU7NQwrxw7VhW+PZdDgZNztty7L85XJvdzsKgyyNDp896fe6VVkE/vLpwZPjo2fnZ8eNZo0oCJn62fnpaHzp1epBGGNFQ4jEUdKoN9M0XSwWw+FwtVoVRcZFRRTs2pZl6IyWeZ47ptVqNsuyXC6XhmF0u10AACFEpgSlVDaQ0khPAgafZctniw+f28PwB4wvevJItOCTzxxAIKDgQHAY+GvpkSYbdAihQBAAcPfu3VarZZqmtBhZLBZ5nm9ubt6/f39nZ0caHjYajcPDw8VioWna5WDo1urtbtdfh0VRbG5uLper3z54EK9DTNB8Pl8sFp5r93o9y9B393YW8zkhJIqiesM7PT52LDMMw5/97CdnJyeeY/2//t2/c22rLMvXXn1lNpsVRVYURbvdliocSZJYliUvRggxnU4fPHjQbDZlErqu+9EHHzx98kRTlDAIIIST0dB13cl4+PTp0zxLoihar9dJkmCCarUahDAIAkopISTw11969fU4TWu1WhAET58+HQ6H0qzOMS1DU7Z3Nnd2drrtdrvRNEyt1WptbvR4VY6GgySOaq6rKQpEAELAOC1pwTgVgiEM8+ITPd7PqDpSOejzeBj+0PHFv0ghAMAAQLlUDDGQVjz+OsCqopumoiiEEMEBwUqn15OeoYQQqbN+dnYmXag453Jv7NatW5qmScNdAECtVgvDUFKkKaXD4XAwGOi67jjOkydPDg8Pb968qSjKycmJZFjatj0YDOQSdVmWk8nkRz/60f7+frPZ/Lu/+7ur16/fvXsXY/zgwYMsy+S8fzKZBEEgoQJCiEwVy7J83282m4yxX/3qVxDC8Xgsr3hwdi4qtl757Wbz6ePH7733XhAE6/Va1/XxdLpYrShjeVlCjLlAS3/tuDV/HZmm+eabb9aajVu3boVh2Ov1Go2GpiiWZbVaLV1VGC1c15bIPgYQAFCv1x3HKcsyTZMsTzzPk3g0IWS98tM4ztNUVVWp8Cj5UHL+84IwD56ffR55UwEAEEKMiG05gKiqbnCI/SAMohBhxfPqCiIIodPTU/mPv/vd78ZJmuf5P/zDP/R6vd39K8fHx7Ztd7vdWqPx9OBZkhVX9/cQQgdPHrfbbT9YTifj11999YPffuTYblWWtm3/8O//wXWsTqdz+/btjx88kHP3/89f/CVRtDQvbt682Wx1/vpv//alO/eIqk9mc9N2NN18+ZVXf/jDH21tbUl7d9u2pdaCNLSS6EW32728vOScLxaLjY0NXYGTy1MNgyzLGGOL2UwATrCiKEqtv7VYzNI03draSpKk299QFMVrCAj0drvbaDSCIIjT/MqVK4ZhJEnSarflyQojUKt7n0h5CAaEoLTEEADINV1FUIGAY8GLLImrMidQU4jnWMCxBK8Eq5I0kU5YUm5BepW+IEa/X/zkEQJ8unENMQEAMCCwQrCiBHFS+AFRdYQVXTMqDtI0hRzout5oNDY3Nxfzle/75xcDAMBbb73FOZdTi2ajLZVDLNOwbfvk+EzX9Rs3rmKMKS01gk9PT72as1oHaZp//OBRSVkUp90euRyOV6tAM6ysoI8eP93e3iaqVpTVxWCYJMnl5eXLX3qVC3h+cXnv/isPHz7c379aq9XSNF35/vbOjhSFY5znRYEJUTUNIqQbBlEUQohhmtF6aRhGkmTtdhchNJ/Px+OhYRgrf71a+mA5v/m1r+m63mjyweDi7t27jlefjP04ye6/vBvG8XA49DxvtVpZliW1ql3PsSwLQwh4ZRiGZVmAQ6mqQxSkYAQEo5TSiiqEQMAAAIQQXVcFY1GYJnFoKEKi1Z+1bS9I5oDnoW0DAEAoLWkxIUAAWjK5dAkhoiUTADlerbux0e316o2G9BSAEF5eXgZBcHBwYJrm9evXl8vlcrk8OTnZ2tqS79Gzs7Oqqsaj4UsvXfc86+rVK7dv3RSMKYqytbUlxc6RQhyv9vL9V2q11moV/uSnbxdlZVrO+cVlo9W2HHdv/+rp2cUHH3189fpNy3Et24WIXL124/0PPlR1gwHxiai0YRBCHMexLGu9Xo9Go6Ioms1mURQbGxsIIamWphCt29nAiAABOedbm9uW42maASoGEQGtzmS+rLVaSNHuv/p6UlBNN+vNttwIfPn+KxgR3/fTJH/zzTdt23Zc2zAMAHiep7LRkvkDIaRVwSvKqyrPkmgd+MGSViVGyNINU9cxhLQq5VHH1HXJFpVrF5LwRukLIQzyxa88EAEABf/Ek4wJIAWc5BjUNE2IcRRFTEBFVU3TdBwniqLxeDyZTFrNztbWVrvTZYwdHx/fu3fPrdVN0yzyUtO0/f19znm77pVl2a57OS3Hw4GqEaKgRrMWx3Gr2cnz/OVXXnv88CEVMArCdm+rKDNDRSt/tbm1Y5qm49YgVnr9za2d3Vq9yQU0LPvps8Ot7b3JZCIxqyhNmp32fLWs1+umY09PTxf+amt3p9VuSeGBtMizsrBcp9tt2wQm4Xq9Xq/X/pWr20lZ2IbpNZthEFSi2t7evhic37h5K4pDt1Zvd/pejZ+enB8eHb/1tTf1c6NiLC8Kx2vu7uyE4TpPs0TBuqapKgGAJ0lUd2tAVJALQgjBmFJpUKkkSQKYphIEDI0QoimqrutClJ9B1b9feV4QwOA5SB4IAGBAcAEwhHlOw3WUSRPdvOAcEoggQpRXjHMhBM2LLMvmi0Wv14MAG4ZxcHCQZdn9+/dbrRZAeLlcOraXpunNmzeTeI02u3/+F//vN998M1hHR88OvvL6VxaLhUDw5ZdfzssyiiKEsOPVWBB1u66qkelsYlqO69Vdry6EWKyCerPV29jc2to6v7h8/Stf/Y8/+JterwcxgZioiloxQAixbXs0GtVqNV3Xsyz7TK5Nuvnu7+9Ly3gCQd1ztzf6aZqOpuN2txsliW3blus8efLk1tV9wzBsx1mtVrtXrlycnqm61ut11kF0cXGxv7+vaVq73QnD9fHx8Y3r103TZJyqqsoFk5NNjHEURVmWEYgIIZpCGFNV5JiGkqcpQhxAwXkFBBRClLRIoxio6DM1VonNfN4PxB8unpNL5ZwLCMGnmzNZlnn1OkqzsuKKqiOspUWe52VC0/lkkqZpWVWEEGnkxLi4du1axfmHH35Y0KrT6eiaOZvNKGNZGk2GF9/+1jc3NzfPzgdvvflV16sPh8M3v/61w2fHAKF2u+M4tddf7z19dgghPDw83N7Z8zwPAJBkRZamlPFWq2VZVpLm27t777zzzu7ubhgn0/NBo9HI8zSKonq9LoRwXddxHClAAz7lklFKe72eZNwhhDirlr6vKp1WpwsQCtdRmuWabsznq/v3vzSejbu9fpQk127carRagsOnB4ff+y9vtzo9gFAYx51OZ2dnx/dXFSsl5OjZjmmaBEEIoYKRpRuj0TjPc1PXKKWAVXEcqwg6tm7bNiFAJRijT37JaRyXZWko2n925nlx4jlJHsg/8ZKnlOZFVhRFwYSiKKqupFlxcXkyGI7LsjIMg1Fer9f39vvL5ZIzUZT0yv7VWr1ZluWYzM6enQCBDp4cAYy2K1av2Z1O58aNG6PRaGdre6KqcZTcvHXj+NkhRPDWjRtxmnme+957HxiGYZrm619+zTAMjOHBweEqCMJ19NLdO67jAYRKyqSowNODI8EBxnC99glEQRZt9jZW62Bra6vVaq2DqKK8LCogUK1Wu7y8bHi1jx/81rIsJPiVvZ3x2Xmaps1m0zSt8XhsGMbW1lYURXt7e2mRt1odXdefHR/1+pud3kZJxWy5CJOw2+1Gceh6TpomUh84yzLGKloyra41ajWMEYQwz/M0TcqyxBAUeZrQwl8uFIwJAkjwes01LA3wah0VWZYpRLVaLSyoZIvK2sUY+0yo9fN+KP43jy988qRxrGiaqiocAi6AZVmu686XgYA4LbMkyeO8qCrW63UwUTEieUZVVZ3NF4wxBLEAaDydG47HuSBY7XU3Do9Pet3+3v5+EASaRrd6m++8+77rupeXkziO9/f3McaGpimapipqEq0Hp0dXdnqy9W912us4QUTVNM217Su7+169fnR0vHflimFrPctZrVb9Tgtj7K/WWVkoGDp2jzHabjT9xXKzv33w9BlExLQcfxX0+31dURuN2na/t5hN7VrN1VVfIbvbW2G4rihN41jV9TIvbt++fXZ2/vU3v3Z8elpv1G5eu3l2fGZYVp4VSRI3O631yqdV9dsHD8D9u6qqLpdzx3Fsy3QcByKUZJl81hEQnHMEgK6qSZI4ttnv95fzOcbY1AwAwGw6VzCqeTUF4dViARg4OjmyTcO27c+oOv8CVX9hAmOMIRTiE08rhJCiKJquCkCSoqyqSlVVr25jRUmzIo4S27ZNw5K7x4tVUJaVovKyoOPx2NBNDtCN67cwUU5Pz3Z3dzvtzmBw5rk13/c1Tbt9+3aaplI3fTQacc455wpBCIpmu0kICdZRHMVJkhuG0e/3TcMyDANjAiE8Hwy+9KUv/fznj69fvw4B+vjjD7//3/w3JycnjJYlq4CACKGKsiiKCFE8ryZFF4xe7/LibKPbDZYzFaOyzFqNhoKxfFL39vakjI6u62+88cZkMkEIQYAqyvKsmC9Wb7zxRsmqNE2lDpsA3F+v2816p9ORBD/T0Bhj0oBEKh9sdHVKqWlolFJNUSgtAedVWQZZaluGqahEQXmaRlFSFAUtOUYvCp/gH8cX/rIJIQhjAADnAgAgCVfS20MOv3VdL4pCItFhGIZh+OzZs0ePHl1eXsZxLL2dP/roI7mdFscx57zX6+3v76uqOhgMLi8vO51OvV4nhMiTveu6l5eX8mSyubn50ksvbW1ttdttzvlvf/vbOI5PT08ppc1mU24umKZ5cnKys7Pzm9/8Zmdnx/O8g4MDVVXjOB4Oh5LYQikVQkghKKkZ/RlJbD6fy92BLMvkFmeWZVJwsNFoKIoir2I6nSZJIpGujY2N27dvq6r66NEjqRPSarV6vd7GxkYcx2maSi0hRVE+G2tK5RAAgNzXiKJIws0IIcuyJGlIimW7riuPN1JdXip7yVIDP92qekHii195CAEQAiGhUih5Bqqqui4xBKCUR1kepxkTAmHFMsFyEdi23el0IIQXl6OqqjyvpijK+++/v7W19dZbbwVBwBir1WqHh4eCs9u3bx8dHRmGcf/+/SiKDg4O5L7X1atXi6IQQqxWqyzLpG6G67q9Xi8MEymX4Tre5eVlkiSTySQvSwjhy1967fDwkFJ68+bNX/7yl3fv3s2T2NB1wcHK92ezWRRF9WZL7uqt1+skDDzXPD09bTa86XCUpoZJDEopUdXLy8tutytnnf1+//j0ZG9v7/HTp2EYSuzhzp07kuQqTXgQQqauxXEs3ec552maWqYuja6k7LXU5QEAAMAldFEUuRzdmKYpTzKf8BIwJrqeZ7FUBfkseWSufr6PxB8svvDJAz65bZ/4KUpKvJyELtdhEEQVgIZlq7oOK17kZbvdnk3nZ2dnUr3Jdd11GJ6cnNy6davVaum6HsfxcjUghKxWq163kySJruvdbncwGKRp2m63oygqy1Kq6sj1IU3ToijyfV9qOm9ubpqOvVwuZTc4X64wxqvV6tVXXwUANJvNvzn+2zzP9/f3pWSPbplAwIvBIEk/6TOlVtZsNgOM7u1uPnv6tNNuyDomdXCkQZWcbEo9btu2ZZWQ32u5XDbb7a985StngwupdwMAaNS8ra0tJK20y7KqKgSFqqqG/snTzzmXjkNlkUnlRM6ZoSiWZQHBK1r4vk+rIk9iXdehYEmStBqutD8Bv1d5PlOvfr7ji588nwZCiAsgX5NZlqmqahhGWbK8YgAAeZBFBp5OFnJ5hlIaxqm0dpIwwNHR0X/4wV/v7e3tX7maZdnLL79smUawHNMyPz8/Nwxjd3f38vLy9PT0e9/73unpKULo/Px8sVh4nqcoiud5V65e/81vH5qmo6rq2dkZq3gcx6tg3e/3oyR54403/upv/u7Ro0eyLiVJYtu259gMCE3V4ziuGJRLR4ZhOI4zm0/73bYQwvO8KIqu7e1PpiMpoEVUdWdnR+6olVUVBIFUz7l3714YhovFQlGU0/PzRqMh7eKktqhrW/1+H/BKCkdBCAmGlFLpDiQ7tziONU1LkwgAQFXCGDN0nRCCIFAVXGV5lmVQbihQJn1XP6s8n8W/JM8XJD7ltsniI5XNoijKC1ZygRCqqiIIo4JSiAhGxLFrFWXS76nX3/I8b7H0pZmUpmnb29v37t3zavX333//8vISI6gr4rVXXwnD8PLyUupZb29vS684xpjneVLyQmpczWazWq1GiGbZdlmWi/lye3ubA7i1tRUlyY9+9KOTk5PHjx9v9rf29/e9Wk0+9OPZVNeMsiwrBqWZaaPRoEUune3W67XjOKvlTGrWGHUDACC1p8Mw9H2/LMvpdNrpdQ3DkMvkAIButztbLKRYHMZYutDJxrIqhTRB4ZwDwYQQCAoAgKxO9VpNVdUiT6uqiqJouVyYqrrSlM3+RqPuMUzyIsWAIIRKxqQI6z+G116Qmc//F14hdnPuSWKhAAAAAElFTkSuQmCC\" class=\"ndarray_image_preview\" /><pre class=\"ndarray_raw_data\">array([[[255, 255, 255],\n",
              "        [255, 255, 255],\n",
              "        [255, 255, 255],\n",
              "        ...,\n",
              "        [255, 255, 255],\n",
              "        [255, 255, 255],\n",
              "        [255, 255, 255]],\n",
              "\n",
              "       [[255, 255, 255],\n",
              "        [255, 255, 255],\n",
              "        [255, 255, 255],\n",
              "        ...,\n",
              "        [255, 255, 255],\n",
              "        [255, 255, 255],\n",
              "        [255, 255, 255]],\n",
              "\n",
              "       [[255, 255, 255],\n",
              "        [255, 255, 255],\n",
              "        [255, 255, 255],\n",
              "        ...,\n",
              "        [255, 255, 255],\n",
              "        [255, 255, 255],\n",
              "        [255, 255, 255]],\n",
              "\n",
              "       ...,\n",
              "\n",
              "       [[255, 255, 255],\n",
              "        [255, 255, 255],\n",
              "        [255, 255, 255],\n",
              "        ...,\n",
              "        [255, 255, 255],\n",
              "        [255, 255, 255],\n",
              "        [255, 255, 255]],\n",
              "\n",
              "       [[255, 255, 255],\n",
              "        [255, 255, 255],\n",
              "        [255, 255, 255],\n",
              "        ...,\n",
              "        [255, 255, 255],\n",
              "        [255, 255, 255],\n",
              "        [255, 255, 255]],\n",
              "\n",
              "       [[255, 255, 255],\n",
              "        [255, 255, 255],\n",
              "        [255, 255, 255],\n",
              "        ...,\n",
              "        [255, 255, 255],\n",
              "        [255, 255, 255],\n",
              "        [255, 255, 255]]], dtype=uint8)</pre></div><script>\n",
              "      (() => {\n",
              "      const titles = ['show data', 'hide data'];\n",
              "      let index = 0\n",
              "      document.querySelector('#id-1c4472b4-04d3-40ec-980f-ac713766c965 button').onclick = (e) => {\n",
              "        document.querySelector('#id-1c4472b4-04d3-40ec-980f-ac713766c965').classList.toggle('show_array');\n",
              "        index = (++index) % 2;\n",
              "        document.querySelector('#id-1c4472b4-04d3-40ec-980f-ac713766c965 button').textContent = titles[index];\n",
              "        e.preventDefault();\n",
              "        e.stopPropagation();\n",
              "      }\n",
              "      })();\n",
              "    </script>"
            ]
          },
          "metadata": {},
          "execution_count": 19
        }
      ]
    },
    {
      "cell_type": "code",
      "source": [
        "test_img.shape"
      ],
      "metadata": {
        "colab": {
          "base_uri": "https://localhost:8080/"
        },
        "id": "KpvleTVl0Qep",
        "outputId": "a500bb5f-e024-4058-925b-3613cdfabf34"
      },
      "execution_count": 20,
      "outputs": [
        {
          "output_type": "execute_result",
          "data": {
            "text/plain": [
              "(183, 276, 3)"
            ]
          },
          "metadata": {},
          "execution_count": 20
        }
      ]
    },
    {
      "cell_type": "code",
      "source": [
        "test_img = cv2.resize(test_img,(256,256))"
      ],
      "metadata": {
        "id": "NMkpuShD0Ror"
      },
      "execution_count": 21,
      "outputs": []
    },
    {
      "cell_type": "code",
      "source": [
        "test_input = test_img.reshape((1,256,256,3))"
      ],
      "metadata": {
        "id": "ocRBtgki0SqL"
      },
      "execution_count": 22,
      "outputs": []
    },
    {
      "cell_type": "code",
      "source": [
        "model.predict(test_input)"
      ],
      "metadata": {
        "colab": {
          "base_uri": "https://localhost:8080/"
        },
        "id": "zwz2qIAJ0Tw5",
        "outputId": "5d1af176-f039-4d46-dc89-673e7c4cf338"
      },
      "execution_count": 23,
      "outputs": [
        {
          "output_type": "stream",
          "name": "stdout",
          "text": [
            "1/1 [==============================] - 0s 409ms/step\n"
          ]
        },
        {
          "output_type": "execute_result",
          "data": {
            "text/plain": [
              "array([[0.26293144]], dtype=float32)"
            ]
          },
          "metadata": {},
          "execution_count": 23
        }
      ]
    },
    {
      "cell_type": "code",
      "source": [],
      "metadata": {
        "id": "e38xlWxY0Vbw"
      },
      "execution_count": null,
      "outputs": []
    }
  ]
}